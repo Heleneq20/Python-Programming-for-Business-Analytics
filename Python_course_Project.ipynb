{
  "nbformat": 4,
  "nbformat_minor": 0,
  "metadata": {
    "colab": {
      "provenance": [],
      "mount_file_id": "1TELFMo24xSvMHQLy4PsPvzV6fTidsNOA",
      "authorship_tag": "ABX9TyMAfTjrEJYorNT6T4zMeaFX",
      "include_colab_link": true
    },
    "kernelspec": {
      "name": "python3",
      "display_name": "Python 3"
    },
    "language_info": {
      "name": "python"
    }
  },
  "cells": [
    {
      "cell_type": "markdown",
      "metadata": {
        "id": "view-in-github",
        "colab_type": "text"
      },
      "source": [
        "<a href=\"https://colab.research.google.com/github/Heleneq20/Python-Programming-for-Business-Analytics/blob/main/Python_course_Project.ipynb\" target=\"_parent\"><img src=\"https://colab.research.google.com/assets/colab-badge.svg\" alt=\"Open In Colab\"/></a>"
      ]
    },
    {
      "cell_type": "markdown",
      "source": [
        "This is a transactional data set which contains all the transactions occurring between 01/12/2010 and 09/12/2011 for a UK-based and registered non-store online retail."
      ],
      "metadata": {
        "id": "5aiVnMYMqJAF"
      }
    },
    {
      "cell_type": "code",
      "source": [
        "# Dataset\n",
        "data = [\n",
        "    {\"InvoiceNo\": \"536365\", \"StockCode\": \"85123A\", \"Description\": \"WHITE HANGING HEART T-LIGHT HOLDER\", \"Quantity\": 6, \"InvoiceDate\": \"01/12/2010 08:26\", \"UnitPrice\": 2.55, \"CustomerID\": 17850, \"Country\": \"United Kingdom\"},\n",
        "    {\"InvoiceNo\": \"536365\", \"StockCode\": \"71053\", \"Description\": \"WHITE METAL LANTERN\", \"Quantity\": 6, \"InvoiceDate\": \"01/12/2010 08:26\", \"UnitPrice\": 3.39, \"CustomerID\": 17850, \"Country\": \"United Kingdom\"},\n",
        "    {\"InvoiceNo\": \"536365\", \"StockCode\": \"84406B\", \"Description\": \"CREAM CUPID HEARTS COAT HANGER\", \"Quantity\": 8, \"InvoiceDate\": \"01/12/2010 08:26\", \"UnitPrice\": 2.75, \"CustomerID\": 17850, \"Country\": \"United Kingdom\"}\n",
        "]\n",
        "\n",
        "# Calculate Total Revenue\n",
        "total_revenue = 0  # Initialize total_revenue outside the loop\n",
        "for record in data:\n",
        "    total_revenue += float(record[\"Quantity\"] * record[\"UnitPrice\"]) # Accumulate revenue for each record\n",
        "\n",
        "# Print Total Revenue\n",
        "print(f\"The total revenue is {total_revenue}\")\n",
        "\n"
      ],
      "metadata": {
        "colab": {
          "base_uri": "https://localhost:8080/"
        },
        "id": "QM0weeu5W0UE",
        "outputId": "7d7f644b-682c-4c57-e1c1-f76511b3fc4d"
      },
      "execution_count": null,
      "outputs": [
        {
          "output_type": "stream",
          "name": "stdout",
          "text": [
            "The total revenue is 57.64\n"
          ]
        }
      ]
    },
    {
      "cell_type": "code",
      "source": [
        "# we want to look for total revenue >0$ and <30$\n",
        "total_revenue = 0\n",
        "for record in data:\n",
        "    total_revenue += float(record[\"Quantity\"] * record[\"UnitPrice\"])\n",
        "    if 0 < total_revenue < 30:\n",
        "        print(f\"The total revenue is between 0$ to 30$\")\n",
        "    else:\n",
        "        print(f\"The total revenue is over 30$\")\n"
      ],
      "metadata": {
        "colab": {
          "base_uri": "https://localhost:8080/"
        },
        "id": "DTo8jx6KZtwR",
        "outputId": "21b64c7d-f68e-4a6d-a5a6-893e3beee769"
      },
      "execution_count": null,
      "outputs": [
        {
          "output_type": "stream",
          "name": "stdout",
          "text": [
            "The total revenue is between 0$ to 30$\n",
            "The total revenue is over 30$\n",
            "The total revenue is over 30$\n"
          ]
        }
      ]
    },
    {
      "cell_type": "code",
      "source": [
        "# Initialize total revenue\n",
        "total_revenue = 0\n",
        "\n",
        "# Loop through each record and calculate the total revenue\n",
        "for record in data:\n",
        "    total_revenue += float(record[\"Quantity\"] * record[\"UnitPrice\"])\n",
        "\n",
        "# Check if the total revenue is between 0 and 30\n",
        "if 0 < total_revenue < 30:\n",
        "    print(f\"The total revenue is between 0$ and 30$\")\n",
        "else:\n",
        "    print(f\"The total revenue is over 30$\")\n"
      ],
      "metadata": {
        "colab": {
          "base_uri": "https://localhost:8080/"
        },
        "id": "_kfTAeuPD1xa",
        "outputId": "a1f5c560-ffc0-47f0-e54c-594417a32ee5"
      },
      "execution_count": null,
      "outputs": [
        {
          "output_type": "stream",
          "name": "stdout",
          "text": [
            "The total revenue is over 30$\n"
          ]
        }
      ]
    },
    {
      "cell_type": "code",
      "source": [
        "import pandas as pd\n",
        "retail_df= pd.read_excel(\"/content/drive/MyDrive/data/Online Retail.xlsx\")\n",
        "\n",
        "retail_df.head()"
      ],
      "metadata": {
        "colab": {
          "base_uri": "https://localhost:8080/",
          "height": 260
        },
        "id": "_ZUbQLUiady2",
        "outputId": "e6ab1f57-a1dc-41ad-e635-92115a40bd08"
      },
      "execution_count": null,
      "outputs": [
        {
          "output_type": "execute_result",
          "data": {
            "text/plain": [
              "  InvoiceNo StockCode                          Description  Quantity  \\\n",
              "0    536365    85123A   WHITE HANGING HEART T-LIGHT HOLDER         6   \n",
              "1    536365     71053                  WHITE METAL LANTERN         6   \n",
              "2    536365    84406B       CREAM CUPID HEARTS COAT HANGER         8   \n",
              "3    536365    84029G  KNITTED UNION FLAG HOT WATER BOTTLE         6   \n",
              "4    536365    84029E       RED WOOLLY HOTTIE WHITE HEART.         6   \n",
              "\n",
              "          InvoiceDate  UnitPrice  CustomerID         Country  \n",
              "0 2010-12-01 08:26:00       2.55     17850.0  United Kingdom  \n",
              "1 2010-12-01 08:26:00       3.39     17850.0  United Kingdom  \n",
              "2 2010-12-01 08:26:00       2.75     17850.0  United Kingdom  \n",
              "3 2010-12-01 08:26:00       3.39     17850.0  United Kingdom  \n",
              "4 2010-12-01 08:26:00       3.39     17850.0  United Kingdom  "
            ],
            "text/html": [
              "\n",
              "  <div id=\"df-ae157044-e6f1-41fb-ac08-bf389db887e8\" class=\"colab-df-container\">\n",
              "    <div>\n",
              "<style scoped>\n",
              "    .dataframe tbody tr th:only-of-type {\n",
              "        vertical-align: middle;\n",
              "    }\n",
              "\n",
              "    .dataframe tbody tr th {\n",
              "        vertical-align: top;\n",
              "    }\n",
              "\n",
              "    .dataframe thead th {\n",
              "        text-align: right;\n",
              "    }\n",
              "</style>\n",
              "<table border=\"1\" class=\"dataframe\">\n",
              "  <thead>\n",
              "    <tr style=\"text-align: right;\">\n",
              "      <th></th>\n",
              "      <th>InvoiceNo</th>\n",
              "      <th>StockCode</th>\n",
              "      <th>Description</th>\n",
              "      <th>Quantity</th>\n",
              "      <th>InvoiceDate</th>\n",
              "      <th>UnitPrice</th>\n",
              "      <th>CustomerID</th>\n",
              "      <th>Country</th>\n",
              "    </tr>\n",
              "  </thead>\n",
              "  <tbody>\n",
              "    <tr>\n",
              "      <th>0</th>\n",
              "      <td>536365</td>\n",
              "      <td>85123A</td>\n",
              "      <td>WHITE HANGING HEART T-LIGHT HOLDER</td>\n",
              "      <td>6</td>\n",
              "      <td>2010-12-01 08:26:00</td>\n",
              "      <td>2.55</td>\n",
              "      <td>17850.0</td>\n",
              "      <td>United Kingdom</td>\n",
              "    </tr>\n",
              "    <tr>\n",
              "      <th>1</th>\n",
              "      <td>536365</td>\n",
              "      <td>71053</td>\n",
              "      <td>WHITE METAL LANTERN</td>\n",
              "      <td>6</td>\n",
              "      <td>2010-12-01 08:26:00</td>\n",
              "      <td>3.39</td>\n",
              "      <td>17850.0</td>\n",
              "      <td>United Kingdom</td>\n",
              "    </tr>\n",
              "    <tr>\n",
              "      <th>2</th>\n",
              "      <td>536365</td>\n",
              "      <td>84406B</td>\n",
              "      <td>CREAM CUPID HEARTS COAT HANGER</td>\n",
              "      <td>8</td>\n",
              "      <td>2010-12-01 08:26:00</td>\n",
              "      <td>2.75</td>\n",
              "      <td>17850.0</td>\n",
              "      <td>United Kingdom</td>\n",
              "    </tr>\n",
              "    <tr>\n",
              "      <th>3</th>\n",
              "      <td>536365</td>\n",
              "      <td>84029G</td>\n",
              "      <td>KNITTED UNION FLAG HOT WATER BOTTLE</td>\n",
              "      <td>6</td>\n",
              "      <td>2010-12-01 08:26:00</td>\n",
              "      <td>3.39</td>\n",
              "      <td>17850.0</td>\n",
              "      <td>United Kingdom</td>\n",
              "    </tr>\n",
              "    <tr>\n",
              "      <th>4</th>\n",
              "      <td>536365</td>\n",
              "      <td>84029E</td>\n",
              "      <td>RED WOOLLY HOTTIE WHITE HEART.</td>\n",
              "      <td>6</td>\n",
              "      <td>2010-12-01 08:26:00</td>\n",
              "      <td>3.39</td>\n",
              "      <td>17850.0</td>\n",
              "      <td>United Kingdom</td>\n",
              "    </tr>\n",
              "  </tbody>\n",
              "</table>\n",
              "</div>\n",
              "    <div class=\"colab-df-buttons\">\n",
              "\n",
              "  <div class=\"colab-df-container\">\n",
              "    <button class=\"colab-df-convert\" onclick=\"convertToInteractive('df-ae157044-e6f1-41fb-ac08-bf389db887e8')\"\n",
              "            title=\"Convert this dataframe to an interactive table.\"\n",
              "            style=\"display:none;\">\n",
              "\n",
              "  <svg xmlns=\"http://www.w3.org/2000/svg\" height=\"24px\" viewBox=\"0 -960 960 960\">\n",
              "    <path d=\"M120-120v-720h720v720H120Zm60-500h600v-160H180v160Zm220 220h160v-160H400v160Zm0 220h160v-160H400v160ZM180-400h160v-160H180v160Zm440 0h160v-160H620v160ZM180-180h160v-160H180v160Zm440 0h160v-160H620v160Z\"/>\n",
              "  </svg>\n",
              "    </button>\n",
              "\n",
              "  <style>\n",
              "    .colab-df-container {\n",
              "      display:flex;\n",
              "      gap: 12px;\n",
              "    }\n",
              "\n",
              "    .colab-df-convert {\n",
              "      background-color: #E8F0FE;\n",
              "      border: none;\n",
              "      border-radius: 50%;\n",
              "      cursor: pointer;\n",
              "      display: none;\n",
              "      fill: #1967D2;\n",
              "      height: 32px;\n",
              "      padding: 0 0 0 0;\n",
              "      width: 32px;\n",
              "    }\n",
              "\n",
              "    .colab-df-convert:hover {\n",
              "      background-color: #E2EBFA;\n",
              "      box-shadow: 0px 1px 2px rgba(60, 64, 67, 0.3), 0px 1px 3px 1px rgba(60, 64, 67, 0.15);\n",
              "      fill: #174EA6;\n",
              "    }\n",
              "\n",
              "    .colab-df-buttons div {\n",
              "      margin-bottom: 4px;\n",
              "    }\n",
              "\n",
              "    [theme=dark] .colab-df-convert {\n",
              "      background-color: #3B4455;\n",
              "      fill: #D2E3FC;\n",
              "    }\n",
              "\n",
              "    [theme=dark] .colab-df-convert:hover {\n",
              "      background-color: #434B5C;\n",
              "      box-shadow: 0px 1px 3px 1px rgba(0, 0, 0, 0.15);\n",
              "      filter: drop-shadow(0px 1px 2px rgba(0, 0, 0, 0.3));\n",
              "      fill: #FFFFFF;\n",
              "    }\n",
              "  </style>\n",
              "\n",
              "    <script>\n",
              "      const buttonEl =\n",
              "        document.querySelector('#df-ae157044-e6f1-41fb-ac08-bf389db887e8 button.colab-df-convert');\n",
              "      buttonEl.style.display =\n",
              "        google.colab.kernel.accessAllowed ? 'block' : 'none';\n",
              "\n",
              "      async function convertToInteractive(key) {\n",
              "        const element = document.querySelector('#df-ae157044-e6f1-41fb-ac08-bf389db887e8');\n",
              "        const dataTable =\n",
              "          await google.colab.kernel.invokeFunction('convertToInteractive',\n",
              "                                                    [key], {});\n",
              "        if (!dataTable) return;\n",
              "\n",
              "        const docLinkHtml = 'Like what you see? Visit the ' +\n",
              "          '<a target=\"_blank\" href=https://colab.research.google.com/notebooks/data_table.ipynb>data table notebook</a>'\n",
              "          + ' to learn more about interactive tables.';\n",
              "        element.innerHTML = '';\n",
              "        dataTable['output_type'] = 'display_data';\n",
              "        await google.colab.output.renderOutput(dataTable, element);\n",
              "        const docLink = document.createElement('div');\n",
              "        docLink.innerHTML = docLinkHtml;\n",
              "        element.appendChild(docLink);\n",
              "      }\n",
              "    </script>\n",
              "  </div>\n",
              "\n",
              "\n",
              "<div id=\"df-10243c49-8bdb-45b3-9af0-af07e52af216\">\n",
              "  <button class=\"colab-df-quickchart\" onclick=\"quickchart('df-10243c49-8bdb-45b3-9af0-af07e52af216')\"\n",
              "            title=\"Suggest charts\"\n",
              "            style=\"display:none;\">\n",
              "\n",
              "<svg xmlns=\"http://www.w3.org/2000/svg\" height=\"24px\"viewBox=\"0 0 24 24\"\n",
              "     width=\"24px\">\n",
              "    <g>\n",
              "        <path d=\"M19 3H5c-1.1 0-2 .9-2 2v14c0 1.1.9 2 2 2h14c1.1 0 2-.9 2-2V5c0-1.1-.9-2-2-2zM9 17H7v-7h2v7zm4 0h-2V7h2v10zm4 0h-2v-4h2v4z\"/>\n",
              "    </g>\n",
              "</svg>\n",
              "  </button>\n",
              "\n",
              "<style>\n",
              "  .colab-df-quickchart {\n",
              "      --bg-color: #E8F0FE;\n",
              "      --fill-color: #1967D2;\n",
              "      --hover-bg-color: #E2EBFA;\n",
              "      --hover-fill-color: #174EA6;\n",
              "      --disabled-fill-color: #AAA;\n",
              "      --disabled-bg-color: #DDD;\n",
              "  }\n",
              "\n",
              "  [theme=dark] .colab-df-quickchart {\n",
              "      --bg-color: #3B4455;\n",
              "      --fill-color: #D2E3FC;\n",
              "      --hover-bg-color: #434B5C;\n",
              "      --hover-fill-color: #FFFFFF;\n",
              "      --disabled-bg-color: #3B4455;\n",
              "      --disabled-fill-color: #666;\n",
              "  }\n",
              "\n",
              "  .colab-df-quickchart {\n",
              "    background-color: var(--bg-color);\n",
              "    border: none;\n",
              "    border-radius: 50%;\n",
              "    cursor: pointer;\n",
              "    display: none;\n",
              "    fill: var(--fill-color);\n",
              "    height: 32px;\n",
              "    padding: 0;\n",
              "    width: 32px;\n",
              "  }\n",
              "\n",
              "  .colab-df-quickchart:hover {\n",
              "    background-color: var(--hover-bg-color);\n",
              "    box-shadow: 0 1px 2px rgba(60, 64, 67, 0.3), 0 1px 3px 1px rgba(60, 64, 67, 0.15);\n",
              "    fill: var(--button-hover-fill-color);\n",
              "  }\n",
              "\n",
              "  .colab-df-quickchart-complete:disabled,\n",
              "  .colab-df-quickchart-complete:disabled:hover {\n",
              "    background-color: var(--disabled-bg-color);\n",
              "    fill: var(--disabled-fill-color);\n",
              "    box-shadow: none;\n",
              "  }\n",
              "\n",
              "  .colab-df-spinner {\n",
              "    border: 2px solid var(--fill-color);\n",
              "    border-color: transparent;\n",
              "    border-bottom-color: var(--fill-color);\n",
              "    animation:\n",
              "      spin 1s steps(1) infinite;\n",
              "  }\n",
              "\n",
              "  @keyframes spin {\n",
              "    0% {\n",
              "      border-color: transparent;\n",
              "      border-bottom-color: var(--fill-color);\n",
              "      border-left-color: var(--fill-color);\n",
              "    }\n",
              "    20% {\n",
              "      border-color: transparent;\n",
              "      border-left-color: var(--fill-color);\n",
              "      border-top-color: var(--fill-color);\n",
              "    }\n",
              "    30% {\n",
              "      border-color: transparent;\n",
              "      border-left-color: var(--fill-color);\n",
              "      border-top-color: var(--fill-color);\n",
              "      border-right-color: var(--fill-color);\n",
              "    }\n",
              "    40% {\n",
              "      border-color: transparent;\n",
              "      border-right-color: var(--fill-color);\n",
              "      border-top-color: var(--fill-color);\n",
              "    }\n",
              "    60% {\n",
              "      border-color: transparent;\n",
              "      border-right-color: var(--fill-color);\n",
              "    }\n",
              "    80% {\n",
              "      border-color: transparent;\n",
              "      border-right-color: var(--fill-color);\n",
              "      border-bottom-color: var(--fill-color);\n",
              "    }\n",
              "    90% {\n",
              "      border-color: transparent;\n",
              "      border-bottom-color: var(--fill-color);\n",
              "    }\n",
              "  }\n",
              "</style>\n",
              "\n",
              "  <script>\n",
              "    async function quickchart(key) {\n",
              "      const quickchartButtonEl =\n",
              "        document.querySelector('#' + key + ' button');\n",
              "      quickchartButtonEl.disabled = true;  // To prevent multiple clicks.\n",
              "      quickchartButtonEl.classList.add('colab-df-spinner');\n",
              "      try {\n",
              "        const charts = await google.colab.kernel.invokeFunction(\n",
              "            'suggestCharts', [key], {});\n",
              "      } catch (error) {\n",
              "        console.error('Error during call to suggestCharts:', error);\n",
              "      }\n",
              "      quickchartButtonEl.classList.remove('colab-df-spinner');\n",
              "      quickchartButtonEl.classList.add('colab-df-quickchart-complete');\n",
              "    }\n",
              "    (() => {\n",
              "      let quickchartButtonEl =\n",
              "        document.querySelector('#df-10243c49-8bdb-45b3-9af0-af07e52af216 button');\n",
              "      quickchartButtonEl.style.display =\n",
              "        google.colab.kernel.accessAllowed ? 'block' : 'none';\n",
              "    })();\n",
              "  </script>\n",
              "</div>\n",
              "\n",
              "    </div>\n",
              "  </div>\n"
            ],
            "application/vnd.google.colaboratory.intrinsic+json": {
              "type": "dataframe",
              "variable_name": "retail_df"
            }
          },
          "metadata": {},
          "execution_count": 1
        }
      ]
    },
    {
      "cell_type": "code",
      "source": [
        "print(retail_df.isnull().sum()) #we want to check if there are missing data"
      ],
      "metadata": {
        "colab": {
          "base_uri": "https://localhost:8080/"
        },
        "id": "RGk8hJS0c7kp",
        "outputId": "9fe6a477-a830-47be-d71c-537c59c6afc1",
        "collapsed": true
      },
      "execution_count": null,
      "outputs": [
        {
          "output_type": "stream",
          "name": "stdout",
          "text": [
            "InvoiceNo           0\n",
            "StockCode           0\n",
            "Description      1454\n",
            "Quantity            0\n",
            "InvoiceDate         0\n",
            "UnitPrice           0\n",
            "CustomerID     135080\n",
            "Country             0\n",
            "dtype: int64\n"
          ]
        }
      ]
    },
    {
      "cell_type": "code",
      "source": [
        "print(retail_df.dtypes)\n"
      ],
      "metadata": {
        "colab": {
          "base_uri": "https://localhost:8080/"
        },
        "id": "3ubz8cIJZL83",
        "outputId": "8241f356-064b-422d-a410-4bbdc3389d39"
      },
      "execution_count": null,
      "outputs": [
        {
          "output_type": "stream",
          "name": "stdout",
          "text": [
            "InvoiceNo              object\n",
            "StockCode              object\n",
            "Description            object\n",
            "Quantity                int64\n",
            "InvoiceDate    datetime64[ns]\n",
            "UnitPrice             float64\n",
            "CustomerID            float64\n",
            "Country                object\n",
            "dtype: object\n"
          ]
        }
      ]
    },
    {
      "cell_type": "code",
      "source": [
        "retail_df['InvoiceDate'] = pd.to_datetime(retail_df['InvoiceDate'], format='%m/%d/%Y %H:%M', errors='coerce')\n",
        "# Remove the 'box' argument and add errors='coerce' to handle parsing errors"
      ],
      "metadata": {
        "id": "YaZWkXDaOgzk"
      },
      "execution_count": null,
      "outputs": []
    },
    {
      "cell_type": "code",
      "source": [
        "retail_df['Description'] = retail_df['Description'].str.replace('.','').str.upper().str.strip()\n",
        "retail_df['Description'] = retail_df['Description'].replace('\\s+',' ',regex = True)\n",
        "retail_df['InvoiceNo'] = retail_df['InvoiceNo'].astype(str).str.upper()\n",
        "retail_df['StockCode'] = retail_df['StockCode'].str.upper()\n",
        "retail_df['Country'] = retail_df['Country'].str.upper()\n",
        "retail_df['CustomerID'] = pd.to_numeric(retail_df['CustomerID'], errors='coerce').fillna(0).astype(int)\n",
        "\n",
        "retail_df.head()"
      ],
      "metadata": {
        "colab": {
          "base_uri": "https://localhost:8080/",
          "height": 260
        },
        "id": "FqZdCwKgO4Lw",
        "outputId": "20e6acde-6e56-4ec0-8c02-4e7827f24146"
      },
      "execution_count": null,
      "outputs": [
        {
          "output_type": "execute_result",
          "data": {
            "text/plain": [
              "  InvoiceNo StockCode                          Description  Quantity  \\\n",
              "0    536365    85123A   WHITE HANGING HEART T-LIGHT HOLDER         6   \n",
              "1    536365       NaN                  WHITE METAL LANTERN         6   \n",
              "2    536365    84406B       CREAM CUPID HEARTS COAT HANGER         8   \n",
              "3    536365    84029G  KNITTED UNION FLAG HOT WATER BOTTLE         6   \n",
              "4    536365    84029E        RED WOOLLY HOTTIE WHITE HEART         6   \n",
              "\n",
              "          InvoiceDate  UnitPrice  CustomerID         Country  \n",
              "0 2010-12-01 08:26:00       2.55       17850  UNITED KINGDOM  \n",
              "1 2010-12-01 08:26:00       3.39       17850  UNITED KINGDOM  \n",
              "2 2010-12-01 08:26:00       2.75       17850  UNITED KINGDOM  \n",
              "3 2010-12-01 08:26:00       3.39       17850  UNITED KINGDOM  \n",
              "4 2010-12-01 08:26:00       3.39       17850  UNITED KINGDOM  "
            ],
            "text/html": [
              "\n",
              "  <div id=\"df-2333d81c-82d5-41a6-bbb5-c4a3d806f941\" class=\"colab-df-container\">\n",
              "    <div>\n",
              "<style scoped>\n",
              "    .dataframe tbody tr th:only-of-type {\n",
              "        vertical-align: middle;\n",
              "    }\n",
              "\n",
              "    .dataframe tbody tr th {\n",
              "        vertical-align: top;\n",
              "    }\n",
              "\n",
              "    .dataframe thead th {\n",
              "        text-align: right;\n",
              "    }\n",
              "</style>\n",
              "<table border=\"1\" class=\"dataframe\">\n",
              "  <thead>\n",
              "    <tr style=\"text-align: right;\">\n",
              "      <th></th>\n",
              "      <th>InvoiceNo</th>\n",
              "      <th>StockCode</th>\n",
              "      <th>Description</th>\n",
              "      <th>Quantity</th>\n",
              "      <th>InvoiceDate</th>\n",
              "      <th>UnitPrice</th>\n",
              "      <th>CustomerID</th>\n",
              "      <th>Country</th>\n",
              "    </tr>\n",
              "  </thead>\n",
              "  <tbody>\n",
              "    <tr>\n",
              "      <th>0</th>\n",
              "      <td>536365</td>\n",
              "      <td>85123A</td>\n",
              "      <td>WHITE HANGING HEART T-LIGHT HOLDER</td>\n",
              "      <td>6</td>\n",
              "      <td>2010-12-01 08:26:00</td>\n",
              "      <td>2.55</td>\n",
              "      <td>17850</td>\n",
              "      <td>UNITED KINGDOM</td>\n",
              "    </tr>\n",
              "    <tr>\n",
              "      <th>1</th>\n",
              "      <td>536365</td>\n",
              "      <td>NaN</td>\n",
              "      <td>WHITE METAL LANTERN</td>\n",
              "      <td>6</td>\n",
              "      <td>2010-12-01 08:26:00</td>\n",
              "      <td>3.39</td>\n",
              "      <td>17850</td>\n",
              "      <td>UNITED KINGDOM</td>\n",
              "    </tr>\n",
              "    <tr>\n",
              "      <th>2</th>\n",
              "      <td>536365</td>\n",
              "      <td>84406B</td>\n",
              "      <td>CREAM CUPID HEARTS COAT HANGER</td>\n",
              "      <td>8</td>\n",
              "      <td>2010-12-01 08:26:00</td>\n",
              "      <td>2.75</td>\n",
              "      <td>17850</td>\n",
              "      <td>UNITED KINGDOM</td>\n",
              "    </tr>\n",
              "    <tr>\n",
              "      <th>3</th>\n",
              "      <td>536365</td>\n",
              "      <td>84029G</td>\n",
              "      <td>KNITTED UNION FLAG HOT WATER BOTTLE</td>\n",
              "      <td>6</td>\n",
              "      <td>2010-12-01 08:26:00</td>\n",
              "      <td>3.39</td>\n",
              "      <td>17850</td>\n",
              "      <td>UNITED KINGDOM</td>\n",
              "    </tr>\n",
              "    <tr>\n",
              "      <th>4</th>\n",
              "      <td>536365</td>\n",
              "      <td>84029E</td>\n",
              "      <td>RED WOOLLY HOTTIE WHITE HEART</td>\n",
              "      <td>6</td>\n",
              "      <td>2010-12-01 08:26:00</td>\n",
              "      <td>3.39</td>\n",
              "      <td>17850</td>\n",
              "      <td>UNITED KINGDOM</td>\n",
              "    </tr>\n",
              "  </tbody>\n",
              "</table>\n",
              "</div>\n",
              "    <div class=\"colab-df-buttons\">\n",
              "\n",
              "  <div class=\"colab-df-container\">\n",
              "    <button class=\"colab-df-convert\" onclick=\"convertToInteractive('df-2333d81c-82d5-41a6-bbb5-c4a3d806f941')\"\n",
              "            title=\"Convert this dataframe to an interactive table.\"\n",
              "            style=\"display:none;\">\n",
              "\n",
              "  <svg xmlns=\"http://www.w3.org/2000/svg\" height=\"24px\" viewBox=\"0 -960 960 960\">\n",
              "    <path d=\"M120-120v-720h720v720H120Zm60-500h600v-160H180v160Zm220 220h160v-160H400v160Zm0 220h160v-160H400v160ZM180-400h160v-160H180v160Zm440 0h160v-160H620v160ZM180-180h160v-160H180v160Zm440 0h160v-160H620v160Z\"/>\n",
              "  </svg>\n",
              "    </button>\n",
              "\n",
              "  <style>\n",
              "    .colab-df-container {\n",
              "      display:flex;\n",
              "      gap: 12px;\n",
              "    }\n",
              "\n",
              "    .colab-df-convert {\n",
              "      background-color: #E8F0FE;\n",
              "      border: none;\n",
              "      border-radius: 50%;\n",
              "      cursor: pointer;\n",
              "      display: none;\n",
              "      fill: #1967D2;\n",
              "      height: 32px;\n",
              "      padding: 0 0 0 0;\n",
              "      width: 32px;\n",
              "    }\n",
              "\n",
              "    .colab-df-convert:hover {\n",
              "      background-color: #E2EBFA;\n",
              "      box-shadow: 0px 1px 2px rgba(60, 64, 67, 0.3), 0px 1px 3px 1px rgba(60, 64, 67, 0.15);\n",
              "      fill: #174EA6;\n",
              "    }\n",
              "\n",
              "    .colab-df-buttons div {\n",
              "      margin-bottom: 4px;\n",
              "    }\n",
              "\n",
              "    [theme=dark] .colab-df-convert {\n",
              "      background-color: #3B4455;\n",
              "      fill: #D2E3FC;\n",
              "    }\n",
              "\n",
              "    [theme=dark] .colab-df-convert:hover {\n",
              "      background-color: #434B5C;\n",
              "      box-shadow: 0px 1px 3px 1px rgba(0, 0, 0, 0.15);\n",
              "      filter: drop-shadow(0px 1px 2px rgba(0, 0, 0, 0.3));\n",
              "      fill: #FFFFFF;\n",
              "    }\n",
              "  </style>\n",
              "\n",
              "    <script>\n",
              "      const buttonEl =\n",
              "        document.querySelector('#df-2333d81c-82d5-41a6-bbb5-c4a3d806f941 button.colab-df-convert');\n",
              "      buttonEl.style.display =\n",
              "        google.colab.kernel.accessAllowed ? 'block' : 'none';\n",
              "\n",
              "      async function convertToInteractive(key) {\n",
              "        const element = document.querySelector('#df-2333d81c-82d5-41a6-bbb5-c4a3d806f941');\n",
              "        const dataTable =\n",
              "          await google.colab.kernel.invokeFunction('convertToInteractive',\n",
              "                                                    [key], {});\n",
              "        if (!dataTable) return;\n",
              "\n",
              "        const docLinkHtml = 'Like what you see? Visit the ' +\n",
              "          '<a target=\"_blank\" href=https://colab.research.google.com/notebooks/data_table.ipynb>data table notebook</a>'\n",
              "          + ' to learn more about interactive tables.';\n",
              "        element.innerHTML = '';\n",
              "        dataTable['output_type'] = 'display_data';\n",
              "        await google.colab.output.renderOutput(dataTable, element);\n",
              "        const docLink = document.createElement('div');\n",
              "        docLink.innerHTML = docLinkHtml;\n",
              "        element.appendChild(docLink);\n",
              "      }\n",
              "    </script>\n",
              "  </div>\n",
              "\n",
              "\n",
              "<div id=\"df-c11f426a-3b08-44f1-9802-d57e444278ec\">\n",
              "  <button class=\"colab-df-quickchart\" onclick=\"quickchart('df-c11f426a-3b08-44f1-9802-d57e444278ec')\"\n",
              "            title=\"Suggest charts\"\n",
              "            style=\"display:none;\">\n",
              "\n",
              "<svg xmlns=\"http://www.w3.org/2000/svg\" height=\"24px\"viewBox=\"0 0 24 24\"\n",
              "     width=\"24px\">\n",
              "    <g>\n",
              "        <path d=\"M19 3H5c-1.1 0-2 .9-2 2v14c0 1.1.9 2 2 2h14c1.1 0 2-.9 2-2V5c0-1.1-.9-2-2-2zM9 17H7v-7h2v7zm4 0h-2V7h2v10zm4 0h-2v-4h2v4z\"/>\n",
              "    </g>\n",
              "</svg>\n",
              "  </button>\n",
              "\n",
              "<style>\n",
              "  .colab-df-quickchart {\n",
              "      --bg-color: #E8F0FE;\n",
              "      --fill-color: #1967D2;\n",
              "      --hover-bg-color: #E2EBFA;\n",
              "      --hover-fill-color: #174EA6;\n",
              "      --disabled-fill-color: #AAA;\n",
              "      --disabled-bg-color: #DDD;\n",
              "  }\n",
              "\n",
              "  [theme=dark] .colab-df-quickchart {\n",
              "      --bg-color: #3B4455;\n",
              "      --fill-color: #D2E3FC;\n",
              "      --hover-bg-color: #434B5C;\n",
              "      --hover-fill-color: #FFFFFF;\n",
              "      --disabled-bg-color: #3B4455;\n",
              "      --disabled-fill-color: #666;\n",
              "  }\n",
              "\n",
              "  .colab-df-quickchart {\n",
              "    background-color: var(--bg-color);\n",
              "    border: none;\n",
              "    border-radius: 50%;\n",
              "    cursor: pointer;\n",
              "    display: none;\n",
              "    fill: var(--fill-color);\n",
              "    height: 32px;\n",
              "    padding: 0;\n",
              "    width: 32px;\n",
              "  }\n",
              "\n",
              "  .colab-df-quickchart:hover {\n",
              "    background-color: var(--hover-bg-color);\n",
              "    box-shadow: 0 1px 2px rgba(60, 64, 67, 0.3), 0 1px 3px 1px rgba(60, 64, 67, 0.15);\n",
              "    fill: var(--button-hover-fill-color);\n",
              "  }\n",
              "\n",
              "  .colab-df-quickchart-complete:disabled,\n",
              "  .colab-df-quickchart-complete:disabled:hover {\n",
              "    background-color: var(--disabled-bg-color);\n",
              "    fill: var(--disabled-fill-color);\n",
              "    box-shadow: none;\n",
              "  }\n",
              "\n",
              "  .colab-df-spinner {\n",
              "    border: 2px solid var(--fill-color);\n",
              "    border-color: transparent;\n",
              "    border-bottom-color: var(--fill-color);\n",
              "    animation:\n",
              "      spin 1s steps(1) infinite;\n",
              "  }\n",
              "\n",
              "  @keyframes spin {\n",
              "    0% {\n",
              "      border-color: transparent;\n",
              "      border-bottom-color: var(--fill-color);\n",
              "      border-left-color: var(--fill-color);\n",
              "    }\n",
              "    20% {\n",
              "      border-color: transparent;\n",
              "      border-left-color: var(--fill-color);\n",
              "      border-top-color: var(--fill-color);\n",
              "    }\n",
              "    30% {\n",
              "      border-color: transparent;\n",
              "      border-left-color: var(--fill-color);\n",
              "      border-top-color: var(--fill-color);\n",
              "      border-right-color: var(--fill-color);\n",
              "    }\n",
              "    40% {\n",
              "      border-color: transparent;\n",
              "      border-right-color: var(--fill-color);\n",
              "      border-top-color: var(--fill-color);\n",
              "    }\n",
              "    60% {\n",
              "      border-color: transparent;\n",
              "      border-right-color: var(--fill-color);\n",
              "    }\n",
              "    80% {\n",
              "      border-color: transparent;\n",
              "      border-right-color: var(--fill-color);\n",
              "      border-bottom-color: var(--fill-color);\n",
              "    }\n",
              "    90% {\n",
              "      border-color: transparent;\n",
              "      border-bottom-color: var(--fill-color);\n",
              "    }\n",
              "  }\n",
              "</style>\n",
              "\n",
              "  <script>\n",
              "    async function quickchart(key) {\n",
              "      const quickchartButtonEl =\n",
              "        document.querySelector('#' + key + ' button');\n",
              "      quickchartButtonEl.disabled = true;  // To prevent multiple clicks.\n",
              "      quickchartButtonEl.classList.add('colab-df-spinner');\n",
              "      try {\n",
              "        const charts = await google.colab.kernel.invokeFunction(\n",
              "            'suggestCharts', [key], {});\n",
              "      } catch (error) {\n",
              "        console.error('Error during call to suggestCharts:', error);\n",
              "      }\n",
              "      quickchartButtonEl.classList.remove('colab-df-spinner');\n",
              "      quickchartButtonEl.classList.add('colab-df-quickchart-complete');\n",
              "    }\n",
              "    (() => {\n",
              "      let quickchartButtonEl =\n",
              "        document.querySelector('#df-c11f426a-3b08-44f1-9802-d57e444278ec button');\n",
              "      quickchartButtonEl.style.display =\n",
              "        google.colab.kernel.accessAllowed ? 'block' : 'none';\n",
              "    })();\n",
              "  </script>\n",
              "</div>\n",
              "\n",
              "    </div>\n",
              "  </div>\n"
            ],
            "application/vnd.google.colaboratory.intrinsic+json": {
              "type": "dataframe",
              "variable_name": "retail_df"
            }
          },
          "metadata": {},
          "execution_count": 5
        }
      ]
    },
    {
      "cell_type": "code",
      "source": [
        "#List non usable StockCodes\n",
        "wrong = retail_df['StockCode'].unique()\n",
        "# Convert all elements in 'wrong' to strings before sorting\n",
        "wrong = [str(item) for item in wrong]\n",
        "wrong.sort()\n",
        "print('Unusable StockCode: \\n',wrong[::-1][:4])"
      ],
      "metadata": {
        "colab": {
          "base_uri": "https://localhost:8080/"
        },
        "id": "3RFQR7BsPtzp",
        "outputId": "85f9e60b-26e6-4d5e-cf68-b7f5a49d3d68"
      },
      "execution_count": null,
      "outputs": [
        {
          "output_type": "stream",
          "name": "stdout",
          "text": [
            "Unusable StockCode: \n",
            " ['nan', 'S', 'POST', 'PADS']\n"
          ]
        }
      ]
    },
    {
      "cell_type": "code",
      "source": [
        "#We want to drop the stockcodes that contains only strings\n",
        "retail_df['StockCode'] = retail_df['StockCode'].astype(str)\n",
        "CodeTypes = list(map(lambda codes: any(char.isdigit() for char in codes), retail_df['StockCode']))\n",
        "WrongCodes = [i for i,v in enumerate(CodeTypes) if v == False]\n",
        "retail_df.drop(WrongCodes , inplace = True)\n"
      ],
      "metadata": {
        "id": "UvR9RGNvUkc_"
      },
      "execution_count": null,
      "outputs": []
    },
    {
      "cell_type": "code",
      "source": [
        "# Create a mapping of StockCode to Description\n",
        "stockcode_descriptions = retail_df.dropna(subset=['Description']).drop_duplicates(subset=['StockCode'])[['StockCode', 'Description']].set_index('StockCode')['Description'].to_dict()\n",
        "\n",
        "# Fill missing descriptions\n",
        "retail_df['Description'] = retail_df['StockCode'].map(stockcode_descriptions).fillna(retail_df['Description'])"
      ],
      "metadata": {
        "id": "5qPx-DG7rUIu"
      },
      "execution_count": null,
      "outputs": []
    },
    {
      "cell_type": "code",
      "source": [
        "#There are some customers that are associated with 2 different countries\n",
        "Customers = retail_df.groupby('CustomerID')['Country'].unique()\n",
        "Customers.loc[Customers.apply(lambda x:len(x)>1)]\n",
        "print(Customers)\n"
      ],
      "metadata": {
        "colab": {
          "base_uri": "https://localhost:8080/"
        },
        "id": "mWcvMvIRPsEm",
        "outputId": "d80a1bcf-e329-4edd-f6fa-7c5b63bb1792"
      },
      "execution_count": null,
      "outputs": [
        {
          "output_type": "stream",
          "name": "stdout",
          "text": [
            "CustomerID\n",
            "0        [UNITED KINGDOM, EIRE, BAHRAIN, HONG KONG, UNS...\n",
            "12347                                            [ICELAND]\n",
            "12349                                              [ITALY]\n",
            "12350                                             [NORWAY]\n",
            "12352                                             [NORWAY]\n",
            "                               ...                        \n",
            "18273                                     [UNITED KINGDOM]\n",
            "18274                                     [UNITED KINGDOM]\n",
            "18277                                     [UNITED KINGDOM]\n",
            "18283                                     [UNITED KINGDOM]\n",
            "18287                                     [UNITED KINGDOM]\n",
            "Name: Country, Length: 3295, dtype: object\n"
          ]
        }
      ]
    },
    {
      "cell_type": "code",
      "source": [
        "print(retail_df.isnull().sum())"
      ],
      "metadata": {
        "colab": {
          "base_uri": "https://localhost:8080/"
        },
        "id": "hpSTIGYmro_J",
        "outputId": "551ea94e-d949-4b89-9047-82bd75bd0a57"
      },
      "execution_count": null,
      "outputs": [
        {
          "output_type": "stream",
          "name": "stdout",
          "text": [
            "InvoiceNo       0\n",
            "StockCode       0\n",
            "Description    49\n",
            "Quantity        0\n",
            "InvoiceDate     0\n",
            "UnitPrice       0\n",
            "CustomerID      0\n",
            "Country         0\n",
            "dtype: int64\n"
          ]
        }
      ]
    },
    {
      "cell_type": "markdown",
      "source": [],
      "metadata": {
        "id": "Su1VnQ5grou0"
      }
    },
    {
      "cell_type": "code",
      "source": [
        "# There are still missing values, let's replace them with \"Unknown\"\n",
        "retail_df['Description'] = retail_df['Description'].fillna(\"Unknown\")\n",
        "print(retail_df.isnull().sum())"
      ],
      "metadata": {
        "colab": {
          "base_uri": "https://localhost:8080/"
        },
        "id": "VlVRT5xerlru",
        "outputId": "3f6fb5cd-9ade-4a11-be64-ba759548d587"
      },
      "execution_count": null,
      "outputs": [
        {
          "output_type": "stream",
          "name": "stdout",
          "text": [
            "InvoiceNo      0\n",
            "StockCode      0\n",
            "Description    0\n",
            "Quantity       0\n",
            "InvoiceDate    0\n",
            "UnitPrice      0\n",
            "CustomerID     0\n",
            "Country        0\n",
            "dtype: int64\n"
          ]
        }
      ]
    },
    {
      "cell_type": "code",
      "source": [
        "#let's look for duplicates\n",
        "retail_df.duplicated().sum()\n"
      ],
      "metadata": {
        "colab": {
          "base_uri": "https://localhost:8080/"
        },
        "id": "otmeAxWjscG3",
        "outputId": "527a6837-6957-48bc-c966-707a25885a85"
      },
      "execution_count": null,
      "outputs": [
        {
          "output_type": "execute_result",
          "data": {
            "text/plain": [
              "380"
            ]
          },
          "metadata": {},
          "execution_count": 12
        }
      ]
    },
    {
      "cell_type": "code",
      "source": [
        "retail_df = retail_df.drop_duplicates()\n",
        "retail_df.duplicated().sum()\n"
      ],
      "metadata": {
        "colab": {
          "base_uri": "https://localhost:8080/"
        },
        "id": "Bc92QYuGsbMi",
        "outputId": "d75556bc-cc3a-4a7a-9481-cb69a46209f9"
      },
      "execution_count": null,
      "outputs": [
        {
          "output_type": "execute_result",
          "data": {
            "text/plain": [
              "0"
            ]
          },
          "metadata": {},
          "execution_count": 13
        }
      ]
    },
    {
      "cell_type": "code",
      "source": [
        "#some of these transactions contains returned products and in those transaction the 'InvoiceNo' contains a 'c' character in the beginning and the 'UnitPrice' should have a negative value\n",
        "\n",
        "retail_df.drop(retail_df[(retail_df.Quantity>0) & (retail_df.InvoiceNo.str.contains('C') == True)].index, inplace=True)\n",
        "retail_df.drop(retail_df[(retail_df.Quantity<0) & (retail_df.InvoiceNo.str.contains('C') == False)].index, inplace=True)\n",
        "retail_df.drop(retail_df[retail_df.Description.str.contains('?', regex=False) == True].index, inplace=True)\n",
        "retail_df.drop(retail_df[retail_df.UnitPrice == 0].index, inplace=True)\n",
        "\n"
      ],
      "metadata": {
        "id": "nJjb_KHUsvVs"
      },
      "execution_count": null,
      "outputs": []
    },
    {
      "cell_type": "code",
      "source": [
        "print(retail_df[\"Country\"].unique())  # List all unique countries\n"
      ],
      "metadata": {
        "colab": {
          "base_uri": "https://localhost:8080/"
        },
        "id": "8Xz2mhsEvZO7",
        "outputId": "2217c0ea-ba55-4c69-e197-d6782f439d3d"
      },
      "execution_count": null,
      "outputs": [
        {
          "output_type": "stream",
          "name": "stdout",
          "text": [
            "['UNITED KINGDOM' 'AUSTRALIA' 'GERMANY' 'EIRE' 'FRANCE' 'ITALY' 'BELGIUM'\n",
            " 'LITHUANIA' 'JAPAN' 'ICELAND' 'PORTUGAL' 'CHANNEL ISLANDS' 'SPAIN'\n",
            " 'CYPRUS' 'SWEDEN' 'NETHERLANDS' 'BAHRAIN' 'POLAND' 'SWITZERLAND'\n",
            " 'FINLAND' 'GREECE' 'HONG KONG' 'SINGAPORE' 'LEBANON' 'AUSTRIA' 'NORWAY'\n",
            " 'UNITED ARAB EMIRATES' 'CZECH REPUBLIC' 'CANADA' 'BRAZIL' 'USA'\n",
            " 'UNSPECIFIED' 'DENMARK' 'MALTA' 'EUROPEAN COMMUNITY' 'ISRAEL' 'RSA']\n"
          ]
        }
      ]
    },
    {
      "cell_type": "code",
      "source": [
        "regions = {\n",
        "    'AMERICAS': [\n",
        "        'USA', 'CANADA', 'BRAZIL', 'ARGENTINA', 'MEXICO', 'CHILE'\n",
        "    ],\n",
        "    'EMEA': [\n",
        "        'UNITED KINGDOM', 'FRANCE', 'NETHERLANDS', 'GERMANY', 'NORWAY',\n",
        "        'EIRE', 'SWITZERLAND', 'SPAIN', 'POLAND', 'PORTUGAL', 'ITALY', 'BELGIUM',\n",
        "        'LITHUANIA', 'ICELAND', 'CHANNEL ISLANDS', 'DENMARK', 'CYPRUS', 'SWEDEN',\n",
        "        'FINLAND', 'AUSTRIA', 'BAHRAIN', 'ISRAEL', 'GREECE', 'EUROPEAN COMMUNITY',\n",
        "        'MALTA','RSA','SAUDI ARABIA', 'LEBANON', 'UNITED ARAB EMIRATES','CZECH REPUBLIC'\n",
        "    ],\n",
        "    'ASIA': [\n",
        "        'JAPAN', 'HONG KONG', 'SINGAPORE', 'CHINA', 'INDIA', 'INDONESIA', 'SOUTH KOREA'\n",
        "    ],\n",
        "    'OTHER': ['UNSPECIFIED', 'AUSTRALIA' ]\n",
        "}\n"
      ],
      "metadata": {
        "id": "ZkXjOotr0k_3"
      },
      "execution_count": null,
      "outputs": []
    },
    {
      "cell_type": "code",
      "source": [
        "def assign_region(country):\n",
        "    for region, countries in regions.items():\n",
        "        if country in countries:\n",
        "            return region\n",
        "    return 'Unknown'  # Retourns 'Unknown' if the country isn't found\n",
        "\n",
        "# Add 'Region' column\n",
        "\n",
        "retail_df['Region'] = retail_df['Country'].apply(assign_region)"
      ],
      "metadata": {
        "id": "slHYH1ES3O3h"
      },
      "execution_count": null,
      "outputs": []
    },
    {
      "cell_type": "code",
      "source": [
        "print(retail_df[['Country','Region']])"
      ],
      "metadata": {
        "colab": {
          "base_uri": "https://localhost:8080/"
        },
        "id": "ZF-VgejX5MKB",
        "outputId": "d7da1c00-6b0b-471f-eaef-0eeb24e7fd3d"
      },
      "execution_count": null,
      "outputs": [
        {
          "output_type": "stream",
          "name": "stdout",
          "text": [
            "               Country Region\n",
            "0       UNITED KINGDOM   EMEA\n",
            "2       UNITED KINGDOM   EMEA\n",
            "3       UNITED KINGDOM   EMEA\n",
            "4       UNITED KINGDOM   EMEA\n",
            "49      UNITED KINGDOM   EMEA\n",
            "...                ...    ...\n",
            "541778         GERMANY   EMEA\n",
            "541809  UNITED KINGDOM   EMEA\n",
            "541838  UNITED KINGDOM   EMEA\n",
            "541844  UNITED KINGDOM   EMEA\n",
            "541853  UNITED KINGDOM   EMEA\n",
            "\n",
            "[51085 rows x 2 columns]\n"
          ]
        }
      ]
    },
    {
      "cell_type": "code",
      "source": [
        "retail_df_emea = retail_df[retail_df[\"Region\"] == \"EMEA\"]\n",
        "print(retail_df_emea)"
      ],
      "metadata": {
        "colab": {
          "base_uri": "https://localhost:8080/"
        },
        "id": "QdakCJbG6dl_",
        "outputId": "2d213817-734d-42ad-86b1-d51b0fa5b6b6"
      },
      "execution_count": null,
      "outputs": [
        {
          "output_type": "stream",
          "name": "stdout",
          "text": [
            "       InvoiceNo StockCode                          Description  Quantity  \\\n",
            "0         536365    85123A   WHITE HANGING HEART T-LIGHT HOLDER         6   \n",
            "2         536365    84406B       CREAM CUPID HEARTS COAT HANGER         8   \n",
            "3         536365    84029G  KNITTED UNION FLAG HOT WATER BOTTLE         6   \n",
            "4         536365    84029E        RED WOOLLY HOTTIE WHITE HEART         6   \n",
            "49        536373    85123A   WHITE HANGING HEART T-LIGHT HOLDER         6   \n",
            "...          ...       ...                                  ...       ...   \n",
            "541778    581578    84997C    BLUE 3 PIECE POLKADOT CUTLERY SET         8   \n",
            "541809    581579    85099C        JUMBO BAG BAROQUE BLACK WHITE        10   \n",
            "541838    581580    84993A            75 GREEN PETIT FOUR CASES         2   \n",
            "541844    581580    85049A        TRADITIONAL CHRISTMAS RIBBONS         1   \n",
            "541853    581580    85049E            SCANDINAVIAN REDS RIBBONS         2   \n",
            "\n",
            "               InvoiceDate  UnitPrice  CustomerID         Country Region  \n",
            "0      2010-12-01 08:26:00       2.55       17850  UNITED KINGDOM   EMEA  \n",
            "2      2010-12-01 08:26:00       2.75       17850  UNITED KINGDOM   EMEA  \n",
            "3      2010-12-01 08:26:00       3.39       17850  UNITED KINGDOM   EMEA  \n",
            "4      2010-12-01 08:26:00       3.39       17850  UNITED KINGDOM   EMEA  \n",
            "49     2010-12-01 09:02:00       2.55       17850  UNITED KINGDOM   EMEA  \n",
            "...                    ...        ...         ...             ...    ...  \n",
            "541778 2011-12-09 12:16:00       4.15       12713         GERMANY   EMEA  \n",
            "541809 2011-12-09 12:19:00       1.79       17581  UNITED KINGDOM   EMEA  \n",
            "541838 2011-12-09 12:20:00       0.42       12748  UNITED KINGDOM   EMEA  \n",
            "541844 2011-12-09 12:20:00       1.25       12748  UNITED KINGDOM   EMEA  \n",
            "541853 2011-12-09 12:20:00       1.25       12748  UNITED KINGDOM   EMEA  \n",
            "\n",
            "[50885 rows x 9 columns]\n"
          ]
        }
      ]
    },
    {
      "cell_type": "code",
      "source": [
        "retail_df[\"InvoiceDate\"] = pd.to_datetime(retail_df[\"InvoiceDate\"])  # Ensure correct format\n",
        "retail_df_december = retail_df[\n",
        "    (retail_df[\"InvoiceDate\"] >= \"2010-12-01\") & (retail_df[\"InvoiceDate\"] < \"2011-01-01\")\n",
        "]\n",
        "print(retail_df_december)"
      ],
      "metadata": {
        "colab": {
          "base_uri": "https://localhost:8080/"
        },
        "id": "L5dPHLvACDEl",
        "outputId": "7cd98eff-847c-4a8b-bdd5-96bac576ee29"
      },
      "execution_count": null,
      "outputs": [
        {
          "output_type": "stream",
          "name": "stdout",
          "text": [
            "      InvoiceNo StockCode                          Description  Quantity  \\\n",
            "0        536365    85123A   WHITE HANGING HEART T-LIGHT HOLDER         6   \n",
            "2        536365    84406B       CREAM CUPID HEARTS COAT HANGER         8   \n",
            "3        536365    84029G  KNITTED UNION FLAG HOT WATER BOTTLE         6   \n",
            "4        536365    84029E        RED WOOLLY HOTTIE WHITE HEART         6   \n",
            "49       536373    85123A   WHITE HANGING HEART T-LIGHT HOLDER         6   \n",
            "...         ...       ...                                  ...       ...   \n",
            "42449    539988    84849D                HOT BATHS SOAP HOLDER         1   \n",
            "42450    539988    84849B               FAIRY SOAP SOAP HOLDER         1   \n",
            "42452    539988    47559B                  TEA TIME OVEN GLOVE         2   \n",
            "42461    539990    85071B   RED CHARLIE+LOLA PERSONAL DOORSIGN         1   \n",
            "42465    539991    84029G  KNITTED UNION FLAG HOT WATER BOTTLE         1   \n",
            "\n",
            "              InvoiceDate  UnitPrice  CustomerID         Country Region  \n",
            "0     2010-12-01 08:26:00       2.55       17850  UNITED KINGDOM   EMEA  \n",
            "2     2010-12-01 08:26:00       2.75       17850  UNITED KINGDOM   EMEA  \n",
            "3     2010-12-01 08:26:00       3.39       17850  UNITED KINGDOM   EMEA  \n",
            "4     2010-12-01 08:26:00       3.39       17850  UNITED KINGDOM   EMEA  \n",
            "49    2010-12-01 09:02:00       2.55       17850  UNITED KINGDOM   EMEA  \n",
            "...                   ...        ...         ...             ...    ...  \n",
            "42449 2010-12-23 16:06:00       1.69       18116  UNITED KINGDOM   EMEA  \n",
            "42450 2010-12-23 16:06:00       1.69       18116  UNITED KINGDOM   EMEA  \n",
            "42452 2010-12-23 16:06:00       1.25       18116  UNITED KINGDOM   EMEA  \n",
            "42461 2010-12-23 16:31:00       2.95           0  UNITED KINGDOM   EMEA  \n",
            "42465 2010-12-23 16:49:00       3.75           0  UNITED KINGDOM   EMEA  \n",
            "\n",
            "[5163 rows x 9 columns]\n"
          ]
        }
      ]
    },
    {
      "cell_type": "code",
      "source": [
        "retail_df[\"Year\"] = retail_df[\"InvoiceDate\"].dt.year\n",
        "retail_df[\"Month\"] = retail_df[\"InvoiceDate\"].dt.month\n",
        "retail_df[\"Day\"] = retail_df[\"InvoiceDate\"].dt.day"
      ],
      "metadata": {
        "id": "BHfvkWEnCasu"
      },
      "execution_count": null,
      "outputs": []
    },
    {
      "cell_type": "code",
      "source": [
        "transactions_per_year = retail_df.groupby(\"Year\")[\"InvoiceNo\"].nunique().reset_index()\n",
        "transactions_per_year.columns = [\"Year\", \"TransactionCount\"]\n",
        "print(transactions_per_year)"
      ],
      "metadata": {
        "colab": {
          "base_uri": "https://localhost:8080/"
        },
        "id": "w1gyYpkrP3Ty",
        "outputId": "b24a31ab-0e16-43ff-a006-df1e1e7cc20e"
      },
      "execution_count": null,
      "outputs": [
        {
          "output_type": "stream",
          "name": "stdout",
          "text": [
            "   Year  TransactionCount\n",
            "0  2010               976\n",
            "1  2011             10836\n"
          ]
        }
      ]
    },
    {
      "cell_type": "code",
      "source": [
        "transactions_per_month = retail_df.groupby([\"Year\", \"Month\"])[\"InvoiceNo\"].nunique().reset_index()\n",
        "transactions_per_month.columns = [\"Year\", \"Month\", \"TransactionCount\"]\n",
        "print(transactions_per_month)"
      ],
      "metadata": {
        "colab": {
          "base_uri": "https://localhost:8080/"
        },
        "id": "sGLRrECKP9WG",
        "outputId": "750ecc37-ab50-4a65-d375-a9e21b619276"
      },
      "execution_count": null,
      "outputs": [
        {
          "output_type": "stream",
          "name": "stdout",
          "text": [
            "    Year  Month  TransactionCount\n",
            "0   2010     12               976\n",
            "1   2011      1               762\n",
            "2   2011      2               731\n",
            "3   2011      3               931\n",
            "4   2011      4               776\n",
            "5   2011      5               928\n",
            "6   2011      6               880\n",
            "7   2011      7               892\n",
            "8   2011      8               831\n",
            "9   2011      9              1050\n",
            "10  2011     10              1136\n",
            "11  2011     11              1494\n",
            "12  2011     12               425\n"
          ]
        }
      ]
    },
    {
      "cell_type": "code",
      "source": [
        "#let's sort by total sales by region (desc)\n",
        "retail_df[\"TotalSales\"] = retail_df[\"Quantity\"] * retail_df[\"UnitPrice\"]\n",
        "region_sales = retail_df.groupby('Region')['TotalSales'].sum().reset_index()\n",
        "region_sales_sorted = region_sales.sort_values(by=\"TotalSales\", ascending=False)\n",
        "print(region_sales_sorted)"
      ],
      "metadata": {
        "colab": {
          "base_uri": "https://localhost:8080/"
        },
        "collapsed": true,
        "id": "8d5OO0W2CSbv",
        "outputId": "4dcaab3c-32cb-482e-e96a-a744d62700bf"
      },
      "execution_count": null,
      "outputs": [
        {
          "output_type": "stream",
          "name": "stdout",
          "text": [
            "     Region  TotalSales\n",
            "2      EMEA   874095.11\n",
            "3     OTHER     4392.28\n",
            "1      ASIA     3258.81\n",
            "0  AMERICAS      614.33\n"
          ]
        }
      ]
    },
    {
      "cell_type": "code",
      "source": [
        "#Top 5 best selling products\n",
        "retail_df_top_products = retail_df.groupby(\"Description\")[\"Quantity\"].sum().reset_index()\n",
        "retail_df_top_products = retail_df_top_products.sort_values(by=\"Quantity\", ascending=False).head(5)\n",
        "print(retail_df_top_products)"
      ],
      "metadata": {
        "colab": {
          "base_uri": "https://localhost:8080/"
        },
        "id": "1h5c-9ZbQhh-",
        "outputId": "543189f7-2d35-4c2e-d93b-feee7b0ed320"
      },
      "execution_count": null,
      "outputs": [
        {
          "output_type": "stream",
          "name": "stdout",
          "text": [
            "                            Description  Quantity\n",
            "438             JUMBO BAG RED RETROSPOT     47256\n",
            "873  WHITE HANGING HEART T-LIGHT HOLDER     35355\n",
            "439                JUMBO BAG STRAWBERRY     17033\n",
            "437       JUMBO BAG BAROQUE BLACK WHITE     13619\n",
            "414   HANGING HEART ZINC T-LIGHT HOLDER      9092\n"
          ]
        }
      ]
    },
    {
      "cell_type": "code",
      "source": [
        "#total sales calculations\n",
        "retail_df[\"TotalPrice\"] = retail_df[\"Quantity\"] * retail_df[\"UnitPrice\"] # assign the calculated total sales to a new column 'TotalPrice'\n",
        "total_sales = retail_df[\"TotalPrice\"] # Assign the \"TotalPrice\" column\n",
        "print(total_sales)"
      ],
      "metadata": {
        "colab": {
          "base_uri": "https://localhost:8080/"
        },
        "id": "6n7ZtsyscnCL",
        "outputId": "89e7296a-723c-4e34-e601-1e1ca85974c8"
      },
      "execution_count": null,
      "outputs": [
        {
          "output_type": "stream",
          "name": "stdout",
          "text": [
            "0         15.30\n",
            "2         22.00\n",
            "3         20.34\n",
            "4         20.34\n",
            "49        15.30\n",
            "          ...  \n",
            "541778    33.20\n",
            "541809    17.90\n",
            "541838     0.84\n",
            "541844     1.25\n",
            "541853     2.50\n",
            "Name: TotalPrice, Length: 51085, dtype: float64\n"
          ]
        }
      ]
    },
    {
      "cell_type": "code",
      "source": [
        "total_quantity = retail_df[\"Quantity\"].sum()\n",
        "print(f\"Total Quantity Sold: {total_quantity}\")"
      ],
      "metadata": {
        "colab": {
          "base_uri": "https://localhost:8080/"
        },
        "id": "6l26XmXncA4n",
        "outputId": "f3f313df-2108-44e7-e01b-18213c469e95"
      },
      "execution_count": null,
      "outputs": [
        {
          "output_type": "stream",
          "name": "stdout",
          "text": [
            "Total Quantity Sold: 433343\n"
          ]
        }
      ]
    },
    {
      "cell_type": "code",
      "source": [
        "#average order value\n",
        "average_order_value = retail_df.groupby(\"InvoiceNo\")[\"TotalPrice\"].sum().mean()\n",
        "print(f\"Average Order Value: {average_order_value:.2f}\")\n"
      ],
      "metadata": {
        "colab": {
          "base_uri": "https://localhost:8080/"
        },
        "id": "YyGZpW6pcjaI",
        "outputId": "ac2fd335-dd11-400d-deff-662e92635352"
      },
      "execution_count": null,
      "outputs": [
        {
          "output_type": "stream",
          "name": "stdout",
          "text": [
            "Average Order Value: 74.70\n"
          ]
        }
      ]
    },
    {
      "cell_type": "code",
      "source": [
        "#average price per product\n",
        "average_price_per_product = retail_df.groupby(\"StockCode\")[\"UnitPrice\"].mean()\n",
        "average_price_per_product_sorted = average_price_per_product.sort_values(ascending=False)\n",
        "print(average_price_per_product_sorted.head())\n"
      ],
      "metadata": {
        "colab": {
          "base_uri": "https://localhost:8080/"
        },
        "id": "8zvRHpZEdb9y",
        "outputId": "81a0a68b-2ea6-4bd5-e692-b12d31018353"
      },
      "execution_count": null,
      "outputs": [
        {
          "output_type": "stream",
          "name": "stdout",
          "text": [
            "StockCode\n",
            "84963B          49.950000\n",
            "C2              49.636364\n",
            "84078A          44.850307\n",
            "84963A          42.950000\n",
            "GIFT_0001_50    41.890000\n",
            "Name: UnitPrice, dtype: float64\n"
          ]
        }
      ]
    },
    {
      "cell_type": "code",
      "source": [
        "# Calculate total transactions\n",
        "total_transactions = retail_df['InvoiceNo'].nunique()\n",
        "\n",
        "# Group by country and count transactions\n",
        "transactions_per_country = retail_df.groupby('Country')['InvoiceNo'].nunique().reset_index()\n",
        "\n",
        "# Calculate percentage\n",
        "transactions_per_country['Percentage'] = (transactions_per_country['InvoiceNo'] / total_transactions) * 100\n",
        "\n",
        "# Sort by percentage in descending order\n",
        "transactions_per_country = transactions_per_country.sort_values(by='Percentage', ascending=False)\n",
        "\n",
        "# Display the result\n",
        "print(transactions_per_country[['Country', 'Percentage']])"
      ],
      "metadata": {
        "colab": {
          "base_uri": "https://localhost:8080/"
        },
        "id": "O6M2uN_fHnkE",
        "outputId": "24f96475-f295-440d-a42a-976d812301e3"
      },
      "execution_count": null,
      "outputs": [
        {
          "output_type": "stream",
          "name": "stdout",
          "text": [
            "                 Country  Percentage\n",
            "34        UNITED KINGDOM   90.772096\n",
            "14               GERMANY    1.921774\n",
            "10                  EIRE    1.913308\n",
            "13                FRANCE    1.549272\n",
            "30                 SPAIN    0.465628\n",
            "3                BELGIUM    0.440230\n",
            "24           NETHERLANDS    0.389434\n",
            "32           SWITZERLAND    0.287843\n",
            "27              PORTUGAL    0.262445\n",
            "12               FINLAND    0.253979\n",
            "0              AUSTRALIA    0.228581\n",
            "19                 ITALY    0.177785\n",
            "25                NORWAY    0.143921\n",
            "6        CHANNEL ISLANDS    0.135455\n",
            "7                 CYPRUS    0.118524\n",
            "26                POLAND    0.110058\n",
            "31                SWEDEN    0.093126\n",
            "9                DENMARK    0.093126\n",
            "1                AUSTRIA    0.093126\n",
            "23                 MALTA    0.059262\n",
            "35           UNSPECIFIED    0.059262\n",
            "17               ICELAND    0.059262\n",
            "36                   USA    0.050796\n",
            "20                 JAPAN    0.050796\n",
            "16             HONG KONG    0.042330\n",
            "29             SINGAPORE    0.033864\n",
            "18                ISRAEL    0.033864\n",
            "15                GREECE    0.025398\n",
            "8         CZECH REPUBLIC    0.025398\n",
            "5                 CANADA    0.025398\n",
            "2                BAHRAIN    0.025398\n",
            "22             LITHUANIA    0.016932\n",
            "21               LEBANON    0.008466\n",
            "28                   RSA    0.008466\n",
            "11    EUROPEAN COMMUNITY    0.008466\n",
            "33  UNITED ARAB EMIRATES    0.008466\n",
            "4                 BRAZIL    0.008466\n"
          ]
        }
      ]
    },
    {
      "cell_type": "code",
      "source": [
        "import matplotlib.pyplot as plt\n",
        "import seaborn as sns"
      ],
      "metadata": {
        "id": "bV2tgfMDd2y-"
      },
      "execution_count": null,
      "outputs": []
    },
    {
      "cell_type": "code",
      "source": [
        "sns.set_style('whitegrid')\n",
        "\n",
        "Top20Quantity = retail_df.groupby('Description')['Quantity'].agg('sum').sort_values(ascending=False)[0:20]\n",
        "Top20Price = retail_df.groupby('Description')[\"TotalPrice\"].agg('sum').sort_values(ascending=False)[0:20]\n",
        "\n",
        "# Create a bar chart for Quantity\n",
        "plt.figure(figsize=(12, 6))\n",
        "sns.barplot(x=Top20Quantity.index, y=Top20Quantity.values)\n",
        "plt.xlabel(\"Product Description\")\n",
        "plt.ylabel(\"Total Quantity Sold\")\n",
        "plt.title(\"Top 20 Products by Quantity\")\n",
        "plt.xticks(rotation=90)\n",
        "plt.tight_layout()\n",
        "plt.show()\n",
        "\n",
        "# Create a subplot for TotalPrice\n",
        "plt.figure(figsize=(12, 6))\n",
        "sns.barplot(x=Top20Price.index, y=Top20Price.values)\n",
        "plt.xlabel(\"Product Description\")\n",
        "plt.ylabel(\"Total Revenue\")\n",
        "plt.title(\"Top 20 Products by TotalPrice\")\n",
        "plt.xticks(rotation=90)\n",
        "plt.tight_layout()\n",
        "plt.show()"
      ],
      "metadata": {
        "colab": {
          "base_uri": "https://localhost:8080/",
          "height": 1000
        },
        "id": "cREG3ppRh0oi",
        "outputId": "42402c62-614b-4196-97c5-068ea1996af9"
      },
      "execution_count": null,
      "outputs": [
        {
          "output_type": "display_data",
          "data": {
            "text/plain": [
              "<Figure size 1200x600 with 1 Axes>"
            ],
            "image/png": "[encoded data removed]"
          },
          "metadata": {}
        },
        {
          "output_type": "display_data",
          "data": {
            "text/plain": [
              "<Figure size 1200x600 with 1 Axes>"
            ],
            "image/png": "[encoded data removed]"
          },
          "metadata": {}
        }
      ]
    },
    {
      "cell_type": "code",
      "source": [
        "\n",
        "# Grouping data by the countries (except UK)\n",
        "ByCountrySale = retail_df[(retail_df['Country'] != 'UNITED KINGDOM') & (retail_df['Quantity'] > 0)]\\\n",
        "    .groupby('Country')['Quantity'].sum().sort_values(ascending=False)\n",
        "\n",
        "# Creating the subplot (only one axis since returns are not included)\n",
        "fig, ax1 = plt.subplots(figsize=(10, 7))\n",
        "\n",
        "# Plot sales\n",
        "ByCountrySale.plot(kind='bar', ax=ax1)\n",
        "ax1.set_ylabel('Quantity')\n",
        "ax1.set_xlabel('')\n",
        "ax1.set_title('Sales', size=12, fontweight='bold')\n",
        "\n",
        "# Set main title\n",
        "plt.suptitle('Sales in Foreign Countries', fontsize=15)\n",
        "plt.subplots_adjust(hspace=0.6)\n",
        "\n",
        "plt.show()\n",
        "\n",
        "\n"
      ],
      "metadata": {
        "colab": {
          "base_uri": "https://localhost:8080/",
          "height": 824
        },
        "id": "svN_tgC64eAn",
        "outputId": "1fc450ba-5218-4ec6-aaa0-50baa02b63e8"
      },
      "execution_count": null,
      "outputs": [
        {
          "output_type": "display_data",
          "data": {
            "text/plain": [
              "<Figure size 1000x700 with 1 Axes>"
            ],
            "image/png": "[encoded data removed]"
          },
          "metadata": {}
        }
      ]
    },
    {
      "cell_type": "code",
      "source": [
        "# Filtering top 10 customers by total TotalPrice, excluding CustomerID = 0\n",
        "Top10Customers = retail_df[retail_df['CustomerID'] != 0] \\\n",
        "    .groupby(['CustomerID', 'Country'])['TotalPrice'].sum() \\\n",
        "    .sort_values(ascending=False).head(10)  # Using head(10) for better readability\n",
        "\n",
        "# Convert the MultiIndex to a list of combined strings for the y-axis labels\n",
        "y_labels = [f'{customer} ({country})' for customer, country in Top10Customers.index]\n",
        "\n",
        "# Creating the barplot\n",
        "plt.figure(figsize=(8, 5))\n",
        "sns.barplot(x=Top10Customers.values, y=y_labels)\\\n",
        "    .set(xlabel='Total Value', ylabel='CustomerID (Country)')\n",
        "\n",
        "# Set main title\n",
        "plt.suptitle('Top 10 Customers and Country of Origin by Sales Value', fontsize=15)\n",
        "\n",
        "plt.show()\n"
      ],
      "metadata": {
        "colab": {
          "base_uri": "https://localhost:8080/",
          "height": 516
        },
        "id": "sd1CROUS82IV",
        "outputId": "54c16ddd-090c-462c-bddd-386062c16063"
      },
      "execution_count": null,
      "outputs": [
        {
          "output_type": "display_data",
          "data": {
            "text/plain": [
              "<Figure size 800x500 with 1 Axes>"
            ],
            "image/png": "[encoded data removed]"
          },
          "metadata": {}
        }
      ]
    },
    {
      "cell_type": "code",
      "source": [
        "\n",
        "# Assuming retail_df is your DataFrame\n",
        "retail_df.to_excel(\"/content/drive/MyDrive/data/retail_data.xlsx\", index=False) # Add a filename and extension"
      ],
      "metadata": {
        "id": "x6k57uOpPgCb"
      },
      "execution_count": null,
      "outputs": []
    },
    {
      "cell_type": "code",
      "source": [
        "!pip install sqlalchemy --quiet"
      ],
      "metadata": {
        "id": "hJYKA_4-O5kS"
      },
      "execution_count": null,
      "outputs": []
    },
    {
      "cell_type": "code",
      "source": [
        "# current working directory\n",
        "import os\n",
        "os.getcwd()"
      ],
      "metadata": {
        "colab": {
          "base_uri": "https://localhost:8080/",
          "height": 42
        },
        "id": "A99lCUNkO-uG",
        "outputId": "b437167d-e52e-47aa-cd32-562d45ecbf61"
      },
      "execution_count": null,
      "outputs": [
        {
          "output_type": "execute_result",
          "data": {
            "text/plain": [
              "'/content'"
            ],
            "application/vnd.google.colaboratory.intrinsic+json": {
              "type": "string"
            }
          },
          "metadata": {},
          "execution_count": 42
        }
      ]
    },
    {
      "cell_type": "code",
      "source": [
        "from sqlalchemy import create_engine"
      ],
      "metadata": {
        "id": "Xyyp7XMyO_FL"
      },
      "execution_count": null,
      "outputs": []
    },
    {
      "cell_type": "code",
      "source": [
        "# Load your data into a pandas DataFrame\n",
        "retail_df = pd.read_excel('/content/drive/MyDrive/data/retail_data.xlsx')\n",
        "\n",
        "\n",
        "engine = create_engine('sqlite:///retail_data.db')\n",
        "\n"
      ],
      "metadata": {
        "id": "4lhUzwwiRvG1"
      },
      "execution_count": null,
      "outputs": []
    },
    {
      "cell_type": "code",
      "source": [
        "from sqlalchemy import Table, Column, Integer, String, MetaData, DateTime, Float # Import DateTime and Float\n",
        "\n",
        "# Define metadata to hold table definitions.\n",
        "metadata = MetaData()\n",
        "\n",
        "sales = Table(\n",
        "    \"sales\", metadata,\n",
        "    Column(\"InvoiceNo\", Integer, primary_key=True),\n",
        "    Column(\"StockCode\", Integer),\n",
        "    Column(\"Description\", String),\n",
        "    Column(\"Quantity\", Integer),\n",
        "    Column(\"InvoiceDate\", DateTime),\n",
        "    Column(\"UnitPrice\", Float),\n",
        "    Column(\"CustomerID\", Integer),\n",
        "    Column(\"Country\", String),\n",
        "    Column(\"Region\", String),\n",
        "    Column(\"Year\", Integer),\n",
        "    Column(\"Month\", Integer),\n",
        "    Column(\"Day\", Integer),\n",
        "    Column(\"TotalPrice\", Float)\n",
        ")\n",
        "metadata.create_all(engine)\n",
        "\n",
        "\n",
        "\n"
      ],
      "metadata": {
        "id": "NSWW9beVUrcE"
      },
      "execution_count": null,
      "outputs": []
    },
    {
      "cell_type": "code",
      "source": [
        "#insert data in the database\n",
        "retail_df.to_sql('sales', con=engine, if_exists='replace', index=False)"
      ],
      "metadata": {
        "colab": {
          "base_uri": "https://localhost:8080/"
        },
        "id": "Oy6yEqhud5h9",
        "outputId": "576a7836-c14b-4b8c-8f33-f08368139dca"
      },
      "execution_count": null,
      "outputs": [
        {
          "output_type": "execute_result",
          "data": {
            "text/plain": [
              "51085"
            ]
          },
          "metadata": {},
          "execution_count": 51
        }
      ]
    },
    {
      "cell_type": "code",
      "source": [
        "from sqlalchemy import insert, select # Import the 'select' function\n",
        "\n",
        "# Select all columns from 'sales'\n",
        "stmt = select(sales)  # Use the 'sales' Table object, not a string\n",
        "with engine.connect() as conn:\n",
        "    results = conn.execute(stmt)\n",
        "    retail_df = pd.DataFrame(results.fetchall(), columns=results.keys())\n",
        "\n",
        "retail_df.head()"
      ],
      "metadata": {
        "colab": {
          "base_uri": "https://localhost:8080/",
          "height": 260
        },
        "id": "zptoU5I1b3aj",
        "outputId": "9e609861-ce02-4cf0-b92a-5715aa97152d"
      },
      "execution_count": null,
      "outputs": [
        {
          "output_type": "execute_result",
          "data": {
            "text/plain": [
              "  InvoiceNo StockCode                          Description  Quantity  \\\n",
              "0    536365    85123A   WHITE HANGING HEART T-LIGHT HOLDER         6   \n",
              "1    536365    84406B       CREAM CUPID HEARTS COAT HANGER         8   \n",
              "2    536365    84029G  KNITTED UNION FLAG HOT WATER BOTTLE         6   \n",
              "3    536365    84029E        RED WOOLLY HOTTIE WHITE HEART         6   \n",
              "4    536373    85123A   WHITE HANGING HEART T-LIGHT HOLDER         6   \n",
              "\n",
              "          InvoiceDate  UnitPrice  CustomerID         Country Region  Year  \\\n",
              "0 2010-12-01 08:26:00       2.55       17850  UNITED KINGDOM   EMEA  2010   \n",
              "1 2010-12-01 08:26:00       2.75       17850  UNITED KINGDOM   EMEA  2010   \n",
              "2 2010-12-01 08:26:00       3.39       17850  UNITED KINGDOM   EMEA  2010   \n",
              "3 2010-12-01 08:26:00       3.39       17850  UNITED KINGDOM   EMEA  2010   \n",
              "4 2010-12-01 09:02:00       2.55       17850  UNITED KINGDOM   EMEA  2010   \n",
              "\n",
              "   Month  Day  TotalPrice  \n",
              "0     12    1       15.30  \n",
              "1     12    1       22.00  \n",
              "2     12    1       20.34  \n",
              "3     12    1       20.34  \n",
              "4     12    1       15.30  "
            ],
            "text/html": [
              "\n",
              "  <div id=\"df-1973c4fb-7379-4735-b533-56f102ab2066\" class=\"colab-df-container\">\n",
              "    <div>\n",
              "<style scoped>\n",
              "    .dataframe tbody tr th:only-of-type {\n",
              "        vertical-align: middle;\n",
              "    }\n",
              "\n",
              "    .dataframe tbody tr th {\n",
              "        vertical-align: top;\n",
              "    }\n",
              "\n",
              "    .dataframe thead th {\n",
              "        text-align: right;\n",
              "    }\n",
              "</style>\n",
              "<table border=\"1\" class=\"dataframe\">\n",
              "  <thead>\n",
              "    <tr style=\"text-align: right;\">\n",
              "      <th></th>\n",
              "      <th>InvoiceNo</th>\n",
              "      <th>StockCode</th>\n",
              "      <th>Description</th>\n",
              "      <th>Quantity</th>\n",
              "      <th>InvoiceDate</th>\n",
              "      <th>UnitPrice</th>\n",
              "      <th>CustomerID</th>\n",
              "      <th>Country</th>\n",
              "      <th>Region</th>\n",
              "      <th>Year</th>\n",
              "      <th>Month</th>\n",
              "      <th>Day</th>\n",
              "      <th>TotalPrice</th>\n",
              "    </tr>\n",
              "  </thead>\n",
              "  <tbody>\n",
              "    <tr>\n",
              "      <th>0</th>\n",
              "      <td>536365</td>\n",
              "      <td>85123A</td>\n",
              "      <td>WHITE HANGING HEART T-LIGHT HOLDER</td>\n",
              "      <td>6</td>\n",
              "      <td>2010-12-01 08:26:00</td>\n",
              "      <td>2.55</td>\n",
              "      <td>17850</td>\n",
              "      <td>UNITED KINGDOM</td>\n",
              "      <td>EMEA</td>\n",
              "      <td>2010</td>\n",
              "      <td>12</td>\n",
              "      <td>1</td>\n",
              "      <td>15.30</td>\n",
              "    </tr>\n",
              "    <tr>\n",
              "      <th>1</th>\n",
              "      <td>536365</td>\n",
              "      <td>84406B</td>\n",
              "      <td>CREAM CUPID HEARTS COAT HANGER</td>\n",
              "      <td>8</td>\n",
              "      <td>2010-12-01 08:26:00</td>\n",
              "      <td>2.75</td>\n",
              "      <td>17850</td>\n",
              "      <td>UNITED KINGDOM</td>\n",
              "      <td>EMEA</td>\n",
              "      <td>2010</td>\n",
              "      <td>12</td>\n",
              "      <td>1</td>\n",
              "      <td>22.00</td>\n",
              "    </tr>\n",
              "    <tr>\n",
              "      <th>2</th>\n",
              "      <td>536365</td>\n",
              "      <td>84029G</td>\n",
              "      <td>KNITTED UNION FLAG HOT WATER BOTTLE</td>\n",
              "      <td>6</td>\n",
              "      <td>2010-12-01 08:26:00</td>\n",
              "      <td>3.39</td>\n",
              "      <td>17850</td>\n",
              "      <td>UNITED KINGDOM</td>\n",
              "      <td>EMEA</td>\n",
              "      <td>2010</td>\n",
              "      <td>12</td>\n",
              "      <td>1</td>\n",
              "      <td>20.34</td>\n",
              "    </tr>\n",
              "    <tr>\n",
              "      <th>3</th>\n",
              "      <td>536365</td>\n",
              "      <td>84029E</td>\n",
              "      <td>RED WOOLLY HOTTIE WHITE HEART</td>\n",
              "      <td>6</td>\n",
              "      <td>2010-12-01 08:26:00</td>\n",
              "      <td>3.39</td>\n",
              "      <td>17850</td>\n",
              "      <td>UNITED KINGDOM</td>\n",
              "      <td>EMEA</td>\n",
              "      <td>2010</td>\n",
              "      <td>12</td>\n",
              "      <td>1</td>\n",
              "      <td>20.34</td>\n",
              "    </tr>\n",
              "    <tr>\n",
              "      <th>4</th>\n",
              "      <td>536373</td>\n",
              "      <td>85123A</td>\n",
              "      <td>WHITE HANGING HEART T-LIGHT HOLDER</td>\n",
              "      <td>6</td>\n",
              "      <td>2010-12-01 09:02:00</td>\n",
              "      <td>2.55</td>\n",
              "      <td>17850</td>\n",
              "      <td>UNITED KINGDOM</td>\n",
              "      <td>EMEA</td>\n",
              "      <td>2010</td>\n",
              "      <td>12</td>\n",
              "      <td>1</td>\n",
              "      <td>15.30</td>\n",
              "    </tr>\n",
              "  </tbody>\n",
              "</table>\n",
              "</div>\n",
              "    <div class=\"colab-df-buttons\">\n",
              "\n",
              "  <div class=\"colab-df-container\">\n",
              "    <button class=\"colab-df-convert\" onclick=\"convertToInteractive('df-1973c4fb-7379-4735-b533-56f102ab2066')\"\n",
              "            title=\"Convert this dataframe to an interactive table.\"\n",
              "            style=\"display:none;\">\n",
              "\n",
              "  <svg xmlns=\"http://www.w3.org/2000/svg\" height=\"24px\" viewBox=\"0 -960 960 960\">\n",
              "    <path d=\"M120-120v-720h720v720H120Zm60-500h600v-160H180v160Zm220 220h160v-160H400v160Zm0 220h160v-160H400v160ZM180-400h160v-160H180v160Zm440 0h160v-160H620v160ZM180-180h160v-160H180v160Zm440 0h160v-160H620v160Z\"/>\n",
              "  </svg>\n",
              "    </button>\n",
              "\n",
              "  <style>\n",
              "    .colab-df-container {\n",
              "      display:flex;\n",
              "      gap: 12px;\n",
              "    }\n",
              "\n",
              "    .colab-df-convert {\n",
              "      background-color: #E8F0FE;\n",
              "      border: none;\n",
              "      border-radius: 50%;\n",
              "      cursor: pointer;\n",
              "      display: none;\n",
              "      fill: #1967D2;\n",
              "      height: 32px;\n",
              "      padding: 0 0 0 0;\n",
              "      width: 32px;\n",
              "    }\n",
              "\n",
              "    .colab-df-convert:hover {\n",
              "      background-color: #E2EBFA;\n",
              "      box-shadow: 0px 1px 2px rgba(60, 64, 67, 0.3), 0px 1px 3px 1px rgba(60, 64, 67, 0.15);\n",
              "      fill: #174EA6;\n",
              "    }\n",
              "\n",
              "    .colab-df-buttons div {\n",
              "      margin-bottom: 4px;\n",
              "    }\n",
              "\n",
              "    [theme=dark] .colab-df-convert {\n",
              "      background-color: #3B4455;\n",
              "      fill: #D2E3FC;\n",
              "    }\n",
              "\n",
              "    [theme=dark] .colab-df-convert:hover {\n",
              "      background-color: #434B5C;\n",
              "      box-shadow: 0px 1px 3px 1px rgba(0, 0, 0, 0.15);\n",
              "      filter: drop-shadow(0px 1px 2px rgba(0, 0, 0, 0.3));\n",
              "      fill: #FFFFFF;\n",
              "    }\n",
              "  </style>\n",
              "\n",
              "    <script>\n",
              "      const buttonEl =\n",
              "        document.querySelector('#df-1973c4fb-7379-4735-b533-56f102ab2066 button.colab-df-convert');\n",
              "      buttonEl.style.display =\n",
              "        google.colab.kernel.accessAllowed ? 'block' : 'none';\n",
              "\n",
              "      async function convertToInteractive(key) {\n",
              "        const element = document.querySelector('#df-1973c4fb-7379-4735-b533-56f102ab2066');\n",
              "        const dataTable =\n",
              "          await google.colab.kernel.invokeFunction('convertToInteractive',\n",
              "                                                    [key], {});\n",
              "        if (!dataTable) return;\n",
              "\n",
              "        const docLinkHtml = 'Like what you see? Visit the ' +\n",
              "          '<a target=\"_blank\" href=https://colab.research.google.com/notebooks/data_table.ipynb>data table notebook</a>'\n",
              "          + ' to learn more about interactive tables.';\n",
              "        element.innerHTML = '';\n",
              "        dataTable['output_type'] = 'display_data';\n",
              "        await google.colab.output.renderOutput(dataTable, element);\n",
              "        const docLink = document.createElement('div');\n",
              "        docLink.innerHTML = docLinkHtml;\n",
              "        element.appendChild(docLink);\n",
              "      }\n",
              "    </script>\n",
              "  </div>\n",
              "\n",
              "\n",
              "<div id=\"df-46ec72f1-babb-499e-b9ba-380b89e6d523\">\n",
              "  <button class=\"colab-df-quickchart\" onclick=\"quickchart('df-46ec72f1-babb-499e-b9ba-380b89e6d523')\"\n",
              "            title=\"Suggest charts\"\n",
              "            style=\"display:none;\">\n",
              "\n",
              "<svg xmlns=\"http://www.w3.org/2000/svg\" height=\"24px\"viewBox=\"0 0 24 24\"\n",
              "     width=\"24px\">\n",
              "    <g>\n",
              "        <path d=\"M19 3H5c-1.1 0-2 .9-2 2v14c0 1.1.9 2 2 2h14c1.1 0 2-.9 2-2V5c0-1.1-.9-2-2-2zM9 17H7v-7h2v7zm4 0h-2V7h2v10zm4 0h-2v-4h2v4z\"/>\n",
              "    </g>\n",
              "</svg>\n",
              "  </button>\n",
              "\n",
              "<style>\n",
              "  .colab-df-quickchart {\n",
              "      --bg-color: #E8F0FE;\n",
              "      --fill-color: #1967D2;\n",
              "      --hover-bg-color: #E2EBFA;\n",
              "      --hover-fill-color: #174EA6;\n",
              "      --disabled-fill-color: #AAA;\n",
              "      --disabled-bg-color: #DDD;\n",
              "  }\n",
              "\n",
              "  [theme=dark] .colab-df-quickchart {\n",
              "      --bg-color: #3B4455;\n",
              "      --fill-color: #D2E3FC;\n",
              "      --hover-bg-color: #434B5C;\n",
              "      --hover-fill-color: #FFFFFF;\n",
              "      --disabled-bg-color: #3B4455;\n",
              "      --disabled-fill-color: #666;\n",
              "  }\n",
              "\n",
              "  .colab-df-quickchart {\n",
              "    background-color: var(--bg-color);\n",
              "    border: none;\n",
              "    border-radius: 50%;\n",
              "    cursor: pointer;\n",
              "    display: none;\n",
              "    fill: var(--fill-color);\n",
              "    height: 32px;\n",
              "    padding: 0;\n",
              "    width: 32px;\n",
              "  }\n",
              "\n",
              "  .colab-df-quickchart:hover {\n",
              "    background-color: var(--hover-bg-color);\n",
              "    box-shadow: 0 1px 2px rgba(60, 64, 67, 0.3), 0 1px 3px 1px rgba(60, 64, 67, 0.15);\n",
              "    fill: var(--button-hover-fill-color);\n",
              "  }\n",
              "\n",
              "  .colab-df-quickchart-complete:disabled,\n",
              "  .colab-df-quickchart-complete:disabled:hover {\n",
              "    background-color: var(--disabled-bg-color);\n",
              "    fill: var(--disabled-fill-color);\n",
              "    box-shadow: none;\n",
              "  }\n",
              "\n",
              "  .colab-df-spinner {\n",
              "    border: 2px solid var(--fill-color);\n",
              "    border-color: transparent;\n",
              "    border-bottom-color: var(--fill-color);\n",
              "    animation:\n",
              "      spin 1s steps(1) infinite;\n",
              "  }\n",
              "\n",
              "  @keyframes spin {\n",
              "    0% {\n",
              "      border-color: transparent;\n",
              "      border-bottom-color: var(--fill-color);\n",
              "      border-left-color: var(--fill-color);\n",
              "    }\n",
              "    20% {\n",
              "      border-color: transparent;\n",
              "      border-left-color: var(--fill-color);\n",
              "      border-top-color: var(--fill-color);\n",
              "    }\n",
              "    30% {\n",
              "      border-color: transparent;\n",
              "      border-left-color: var(--fill-color);\n",
              "      border-top-color: var(--fill-color);\n",
              "      border-right-color: var(--fill-color);\n",
              "    }\n",
              "    40% {\n",
              "      border-color: transparent;\n",
              "      border-right-color: var(--fill-color);\n",
              "      border-top-color: var(--fill-color);\n",
              "    }\n",
              "    60% {\n",
              "      border-color: transparent;\n",
              "      border-right-color: var(--fill-color);\n",
              "    }\n",
              "    80% {\n",
              "      border-color: transparent;\n",
              "      border-right-color: var(--fill-color);\n",
              "      border-bottom-color: var(--fill-color);\n",
              "    }\n",
              "    90% {\n",
              "      border-color: transparent;\n",
              "      border-bottom-color: var(--fill-color);\n",
              "    }\n",
              "  }\n",
              "</style>\n",
              "\n",
              "  <script>\n",
              "    async function quickchart(key) {\n",
              "      const quickchartButtonEl =\n",
              "        document.querySelector('#' + key + ' button');\n",
              "      quickchartButtonEl.disabled = true;  // To prevent multiple clicks.\n",
              "      quickchartButtonEl.classList.add('colab-df-spinner');\n",
              "      try {\n",
              "        const charts = await google.colab.kernel.invokeFunction(\n",
              "            'suggestCharts', [key], {});\n",
              "      } catch (error) {\n",
              "        console.error('Error during call to suggestCharts:', error);\n",
              "      }\n",
              "      quickchartButtonEl.classList.remove('colab-df-spinner');\n",
              "      quickchartButtonEl.classList.add('colab-df-quickchart-complete');\n",
              "    }\n",
              "    (() => {\n",
              "      let quickchartButtonEl =\n",
              "        document.querySelector('#df-46ec72f1-babb-499e-b9ba-380b89e6d523 button');\n",
              "      quickchartButtonEl.style.display =\n",
              "        google.colab.kernel.accessAllowed ? 'block' : 'none';\n",
              "    })();\n",
              "  </script>\n",
              "</div>\n",
              "\n",
              "    </div>\n",
              "  </div>\n"
            ],
            "application/vnd.google.colaboratory.intrinsic+json": {
              "type": "dataframe",
              "variable_name": "retail_df",
              "summary": "{\n  \"name\": \"retail_df\",\n  \"rows\": 51085,\n  \"fields\": [\n    {\n      \"column\": \"InvoiceNo\",\n      \"properties\": {\n        \"dtype\": \"category\",\n        \"num_unique_values\": 11812,\n        \"samples\": [\n          \"566746\",\n          \"573171\",\n          \"544194\"\n        ],\n        \"semantic_type\": \"\",\n        \"description\": \"\"\n      }\n    },\n    {\n      \"column\": \"StockCode\",\n      \"properties\": {\n        \"dtype\": \"category\",\n        \"num_unique_values\": 937,\n        \"samples\": [\n          \"47504K\",\n          \"85035B\",\n          \"90036F\"\n        ],\n        \"semantic_type\": \"\",\n        \"description\": \"\"\n      }\n    },\n    {\n      \"column\": \"Description\",\n      \"properties\": {\n        \"dtype\": \"category\",\n        \"num_unique_values\": 925,\n        \"samples\": [\n          \"GREEN/BLUE FLOWER DESIGN BIG MUG\",\n          \"BLUE DELPHINIUM ARTIFICIAL FLOWER\",\n          \"BLUE NEW BAROQUE CANDLESTICK CANDLE\"\n        ],\n        \"semantic_type\": \"\",\n        \"description\": \"\"\n      }\n    },\n    {\n      \"column\": \"Quantity\",\n      \"properties\": {\n        \"dtype\": \"number\",\n        \"std\": 31,\n        \"min\": -1930,\n        \"max\": 1930,\n        \"num_unique_values\": 177,\n        \"samples\": [\n          20,\n          31,\n          -120\n        ],\n        \"semantic_type\": \"\",\n        \"description\": \"\"\n      }\n    },\n    {\n      \"column\": \"InvoiceDate\",\n      \"properties\": {\n        \"dtype\": \"date\",\n        \"min\": \"2010-12-01 08:26:00\",\n        \"max\": \"2011-12-09 12:20:00\",\n        \"num_unique_values\": 11266,\n        \"samples\": [\n          \"2011-04-11 10:14:00\",\n          \"2011-03-07 12:26:00\",\n          \"2011-04-21 16:26:00\"\n        ],\n        \"semantic_type\": \"\",\n        \"description\": \"\"\n      }\n    },\n    {\n      \"column\": \"UnitPrice\",\n      \"properties\": {\n        \"dtype\": \"number\",\n        \"std\": 4.5011036176362476,\n        \"min\": 0.08,\n        \"max\": 150.0,\n        \"num_unique_values\": 206,\n        \"samples\": [\n          4.95,\n          5.95,\n          1.04\n        ],\n        \"semantic_type\": \"\",\n        \"description\": \"\"\n      }\n    },\n    {\n      \"column\": \"CustomerID\",\n      \"properties\": {\n        \"dtype\": \"number\",\n        \"std\": 7407,\n        \"min\": 0,\n        \"max\": 18287,\n        \"num_unique_values\": 3295,\n        \"samples\": [\n          13732,\n          17286,\n          14661\n        ],\n        \"semantic_type\": \"\",\n        \"description\": \"\"\n      }\n    },\n    {\n      \"column\": \"Country\",\n      \"properties\": {\n        \"dtype\": \"category\",\n        \"num_unique_values\": 37,\n        \"samples\": [\n          \"POLAND\",\n          \"CYPRUS\",\n          \"FRANCE\"\n        ],\n        \"semantic_type\": \"\",\n        \"description\": \"\"\n      }\n    },\n    {\n      \"column\": \"Region\",\n      \"properties\": {\n        \"dtype\": \"category\",\n        \"num_unique_values\": 4,\n        \"samples\": [\n          \"OTHER\",\n          \"AMERICAS\",\n          \"EMEA\"\n        ],\n        \"semantic_type\": \"\",\n        \"description\": \"\"\n      }\n    },\n    {\n      \"column\": \"Year\",\n      \"properties\": {\n        \"dtype\": \"number\",\n        \"std\": 0,\n        \"min\": 2010,\n        \"max\": 2011,\n        \"num_unique_values\": 2,\n        \"samples\": [\n          2011,\n          2010\n        ],\n        \"semantic_type\": \"\",\n        \"description\": \"\"\n      }\n    },\n    {\n      \"column\": \"Month\",\n      \"properties\": {\n        \"dtype\": \"number\",\n        \"std\": 3,\n        \"min\": 1,\n        \"max\": 12,\n        \"num_unique_values\": 12,\n        \"samples\": [\n          10,\n          9\n        ],\n        \"semantic_type\": \"\",\n        \"description\": \"\"\n      }\n    },\n    {\n      \"column\": \"Day\",\n      \"properties\": {\n        \"dtype\": \"number\",\n        \"std\": 8,\n        \"min\": 1,\n        \"max\": 31,\n        \"num_unique_values\": 31,\n        \"samples\": [\n          28,\n          19\n        ],\n        \"semantic_type\": \"\",\n        \"description\": \"\"\n      }\n    },\n    {\n      \"column\": \"TotalPrice\",\n      \"properties\": {\n        \"dtype\": \"number\",\n        \"std\": 71.1192017897748,\n        \"min\": -4921.5,\n        \"max\": 4921.5,\n        \"num_unique_values\": 1505,\n        \"samples\": [\n          12.75,\n          39.36\n        ],\n        \"semantic_type\": \"\",\n        \"description\": \"\"\n      }\n    }\n  ]\n}"
            }
          },
          "metadata": {},
          "execution_count": 53
        }
      ]
    },
    {
      "cell_type": "code",
      "source": [
        "!pip install sqlalchemy --quiet\n",
        "from sqlalchemy import create_engine, select, MetaData, Table, Column, Integer, String, DateTime, Float, func\n",
        "from sqlalchemy.orm import sessionmaker\n",
        "\n",
        "\n",
        "# Load your data into a pandas DataFrame\n",
        "retail_df = pd.read_excel('/content/drive/MyDrive/data/retail_data.xlsx')\n",
        "\n",
        "engine = create_engine('sqlite:///retail_data.db')\n",
        "\n",
        "# Define metadata to hold table definitions.\n",
        "metadata = MetaData()\n",
        "\n",
        "sales = Table(\n",
        "    \"sales\", metadata,\n",
        "    Column(\"InvoiceNo\", Integer, primary_key=True),\n",
        "    Column(\"StockCode\", Integer),\n",
        "    Column(\"Description\", String),\n",
        "    Column(\"Quantity\", Integer),\n",
        "    Column(\"InvoiceDate\", DateTime),\n",
        "    Column(\"UnitPrice\", Float),\n",
        "    Column(\"CustomerID\", Integer),\n",
        "    Column(\"Country\", String),\n",
        "    Column(\"Region\", String),\n",
        "    Column(\"Year\", Integer),\n",
        "    Column(\"Month\", Integer),\n",
        "    Column(\"Day\", Integer),\n",
        "    Column(\"TotalPrice\", Float)\n",
        ")\n",
        "metadata.create_all(engine)\n",
        "\n",
        "#insert data in the database\n",
        "retail_df.to_sql('sales', con=engine, if_exists='replace', index=False)\n",
        "\n",
        "# Create a session\n",
        "Session = sessionmaker(bind=engine)\n",
        "session = Session()\n",
        "\n",
        "# What are the top selling products by quantity?\n",
        "top_selling_products = (\n",
        "    session.query(\n",
        "        sales.c.Description, # Access columns using sales.c.ColumnName\n",
        "        func.sum(sales.c.Quantity).label('total_quantity')\n",
        "    )\n",
        "    .group_by(sales.c.Description)\n",
        "    .order_by(func.sum(sales.c.Quantity).desc())\n",
        "    .limit(5)\n",
        "    .all()\n",
        ")\n",
        "\n",
        "for row in top_selling_products:\n",
        "    print(f\"Product: {row.Description}, Total Quantity Sold: {row.total_quantity}\")\n",
        "\n"
      ],
      "metadata": {
        "colab": {
          "base_uri": "https://localhost:8080/"
        },
        "id": "6ZDvUcSOcL_2",
        "outputId": "5177d72f-6128-4bde-829b-ba37167f7c7b"
      },
      "execution_count": null,
      "outputs": [
        {
          "output_type": "stream",
          "name": "stdout",
          "text": [
            "Product: JUMBO BAG RED RETROSPOT, Total Quantity Sold: 47256\n",
            "Product: WHITE HANGING HEART T-LIGHT HOLDER, Total Quantity Sold: 35355\n",
            "Product: JUMBO BAG STRAWBERRY, Total Quantity Sold: 17033\n",
            "Product: JUMBO BAG BAROQUE BLACK WHITE, Total Quantity Sold: 13619\n",
            "Product: HANGING HEART ZINC T-LIGHT HOLDER, Total Quantity Sold: 9092\n"
          ]
        }
      ]
    },
    {
      "cell_type": "code",
      "source": [
        "#what are the top 5 products that generates the highest total revenue?\n",
        "top_profitable_products = (\n",
        "    session.query(\n",
        "        sales.c.Description,  # Changed Sales to sales.c\n",
        "        func.sum(sales.c.TotalPrice).label(\"total_revenue\")  # Changed Sales to sales.c\n",
        "    )\n",
        "    .group_by(sales.c.Description)\n",
        "    .order_by(func.sum(sales.c.TotalPrice).desc())\n",
        "    .limit(5)\n",
        "    .all()\n",
        ")\n",
        "\n",
        "for row in top_profitable_products:\n",
        "    print(f\"Product: {row.Description}, Total Revenue: {row.total_revenue}\")\n"
      ],
      "metadata": {
        "colab": {
          "base_uri": "https://localhost:8080/"
        },
        "id": "vBtTR4OkgkIK",
        "outputId": "596e2e7c-8a30-4acc-fd93-3a68814581a6"
      },
      "execution_count": null,
      "outputs": [
        {
          "output_type": "stream",
          "name": "stdout",
          "text": [
            "Product: WHITE HANGING HEART T-LIGHT HOLDER, Total Revenue: 99790.92999999852\n",
            "Product: JUMBO BAG RED RETROSPOT, Total Revenue: 92175.79000000203\n",
            "Product: JUMBO BAG STRAWBERRY, Total Revenue: 32279.15999999994\n",
            "Product: JUMBO BAG BAROQUE BLACK WHITE, Total Revenue: 27536.859999999902\n",
            "Product: EDWARDIAN PARASOL NATURAL, Total Revenue: 23400.519999999957\n"
          ]
        }
      ]
    },
    {
      "cell_type": "code",
      "source": [
        "#what are the revenues by months? Analyze seasonal trends.\n",
        "monthly_revenue = (\n",
        "    session.query(\n",
        "        sales.c.Year,  # Change Sales to sales.c\n",
        "        sales.c.Month,  # Change Sales to sales.c\n",
        "        func.sum(sales.c.TotalPrice).label(\"total_revenue\")  # Change Sales to sales.c\n",
        "    )\n",
        "    .group_by(sales.c.Year, sales.c.Month)  # Change Sales to sales.c\n",
        "    .order_by(sales.c.Year, sales.c.Month)  # Change Sales to sales.c\n",
        "    .all()\n",
        ")\n",
        "\n",
        "for row in monthly_revenue:\n",
        "    print(f\"Year: {row.Year}, Month: {row.Month}, Total Revenue: {row.total_revenue}\")"
      ],
      "metadata": {
        "colab": {
          "base_uri": "https://localhost:8080/"
        },
        "id": "5qR70icfhQLW",
        "outputId": "772a9d18-34b0-4b54-9235-68c72e0ee5fe"
      },
      "execution_count": null,
      "outputs": [
        {
          "output_type": "stream",
          "name": "stdout",
          "text": [
            "Year: 2010, Month: 12, Total Revenue: 91172.19000000024\n",
            "Year: 2011, Month: 1, Total Revenue: 85387.36000000003\n",
            "Year: 2011, Month: 2, Total Revenue: 54836.390000000174\n",
            "Year: 2011, Month: 3, Total Revenue: 69971.54999999994\n",
            "Year: 2011, Month: 4, Total Revenue: 49826.880000000296\n",
            "Year: 2011, Month: 5, Total Revenue: 70865.18000000014\n",
            "Year: 2011, Month: 6, Total Revenue: 59633.480000000156\n",
            "Year: 2011, Month: 7, Total Revenue: 70792.25000000036\n",
            "Year: 2011, Month: 8, Total Revenue: 63969.81000000033\n",
            "Year: 2011, Month: 9, Total Revenue: 70911.65000000031\n",
            "Year: 2011, Month: 10, Total Revenue: 71002.41000000002\n",
            "Year: 2011, Month: 11, Total Revenue: 98053.61999999988\n",
            "Year: 2011, Month: 12, Total Revenue: 25937.760000000126\n"
          ]
        }
      ]
    }
  ]
}