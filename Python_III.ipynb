{
  "nbformat": 4,
  "nbformat_minor": 0,
  "metadata": {
    "colab": {
      "provenance": [],
      "toc_visible": true,
      "authorship_tag": "ABX9TyO4bdX3xsDg1kyj7y4B6AMw",
      "include_colab_link": true
    },
    "kernelspec": {
      "name": "python3",
      "display_name": "Python 3"
    },
    "language_info": {
      "name": "python"
    }
  },
  "cells": [
    {
      "cell_type": "markdown",
      "metadata": {
        "id": "view-in-github",
        "colab_type": "text"
      },
      "source": [
        "<a href=\"https://colab.research.google.com/github/urosgodnov/Python-Programming-for-Business-Analytics/blob/main/Python_III.ipynb\" target=\"_parent\"><img src=\"https://colab.research.google.com/assets/colab-badge.svg\" alt=\"Open In Colab\"/></a>"
      ]
    },
    {
      "cell_type": "markdown",
      "source": [
        "# Python Programming for Business Analytics - Basics of Python - III"
      ],
      "metadata": {
        "id": "UKy1AKf4XVQR"
      }
    },
    {
      "cell_type": "markdown",
      "source": [
        "## Modules"
      ],
      "metadata": {
        "id": "kbM_qoqBXYae"
      }
    },
    {
      "cell_type": "markdown",
      "source": [
        "Python has a rich standard library.\n",
        "\n",
        "Most common modules are numpy, pandas, scikit-learn, matplotlib,..."
      ],
      "metadata": {
        "id": "DEOJihSjXfvM"
      }
    },
    {
      "cell_type": "code",
      "execution_count": null,
      "metadata": {
        "id": "iMGWNdeBXOxN"
      },
      "outputs": [],
      "source": [
        "# importing a whole module\n",
        "import math\n",
        "\n",
        "# Calculating the square root\n",
        "print(\"Square root of 16:\", math.sqrt(16))\n",
        "\n",
        "# Calculating sine of 90 degrees (convert degrees to radians first)\n",
        "print(\"Sine of 90 degrees:\", math.sin(math.radians(90)))"
      ]
    },
    {
      "cell_type": "code",
      "source": [
        "# Use aliases to shorten module names or improve readability.\n",
        "\n",
        "import math as m\n",
        "\n",
        "# Using the alias\n",
        "print(\"Cosine of 45 degrees:\", m.cos(m.radians(45)))"
      ],
      "metadata": {
        "id": "3wVzzpbtXunN"
      },
      "execution_count": null,
      "outputs": []
    },
    {
      "cell_type": "code",
      "source": [
        "# You can import specific functions from a module to avoid importing everything.\n",
        "\n",
        "from math import sqrt, pi\n",
        "\n",
        "print(\"Value of pi:\", pi)\n",
        "print(\"Square root of 25:\", sqrt(25))"
      ],
      "metadata": {
        "id": "yupvcI6SXyIR"
      },
      "execution_count": null,
      "outputs": []
    },
    {
      "cell_type": "code",
      "source": [
        "from random import randint\n",
        "\n",
        "randint(0,100)"
      ],
      "metadata": {
        "id": "0vkD26uKX6PY"
      },
      "execution_count": null,
      "outputs": []
    },
    {
      "cell_type": "markdown",
      "source": [
        "**list of preinstalled modules**"
      ],
      "metadata": {
        "id": "rebl01AbYvnZ"
      }
    },
    {
      "cell_type": "code",
      "source": [
        "!pip list"
      ],
      "metadata": {
        "id": "Q2uthav_Y03g"
      },
      "execution_count": null,
      "outputs": []
    },
    {
      "cell_type": "markdown",
      "source": [
        "**what if module is not preinstalled on google colab**"
      ],
      "metadata": {
        "id": "AT_by-dJYHC4"
      }
    },
    {
      "cell_type": "code",
      "source": [
        "try:\n",
        "  import janitor\n",
        "except:\n",
        "  print(\"Module is not preeinstalled!Installing now...\")\n",
        "  !pip install pyjanitor --quiet"
      ],
      "metadata": {
        "id": "XJt8WJ95YOEA"
      },
      "execution_count": null,
      "outputs": []
    },
    {
      "cell_type": "code",
      "source": [
        "import janitor"
      ],
      "metadata": {
        "id": "5pg_nNKmYi9a"
      },
      "execution_count": 5,
      "outputs": []
    },
    {
      "cell_type": "code",
      "source": [
        "# Example Code for Connecting to Google Drive\n",
        "from google.colab import drive\n",
        "print(\"Mounting Google Drive...\")\n",
        "drive.mount('/content/drive')"
      ],
      "metadata": {
        "colab": {
          "base_uri": "https://localhost:8080/"
        },
        "id": "7CglRNcVdLow",
        "outputId": "0f0e4aa2-69ea-4072-8ab2-74041a9a3225"
      },
      "execution_count": 7,
      "outputs": [
        {
          "output_type": "stream",
          "name": "stderr",
          "text": [
            "/usr/local/lib/python3.10/dist-packages/ipykernel/ipkernel.py:283: DeprecationWarning: `should_run_async` will not call `transform_cell` automatically in the future. Please pass the result to `transformed_cell` argument and any exception that happen during thetransform in `preprocessing_exc_tuple` in IPython 7.17 and above.\n",
            "  and should_run_async(code)\n"
          ]
        },
        {
          "output_type": "stream",
          "name": "stdout",
          "text": [
            "Mounting Google Drive...\n",
            "Mounted at /content/drive\n"
          ]
        }
      ]
    },
    {
      "cell_type": "code",
      "source": [
        "# Verifying Drive Connection\n",
        "import os\n",
        "print(\"Listing files in the root directory of Google Drive:\")\n",
        "print(os.listdir('/content/drive/My Drive'))"
      ],
      "metadata": {
        "id": "PpNLjvnfdSuc"
      },
      "execution_count": null,
      "outputs": []
    },
    {
      "cell_type": "markdown",
      "source": [
        "### Tasks"
      ],
      "metadata": {
        "id": "I6YKpQZNZCHk"
      }
    },
    {
      "cell_type": "code",
      "source": [
        "# test if randint is a random function regarding the distribution of even and odd numbers\n",
        "# in a large list there should be 50/50 even/odd numbers\n",
        "# create 1000 random numbers betweeb 1 and 10 000\n",
        "# count list and odd numbers"
      ],
      "metadata": {
        "id": "1NNR-TmpZEi9"
      },
      "execution_count": null,
      "outputs": []
    },
    {
      "cell_type": "markdown",
      "source": [
        "## Pandas"
      ],
      "metadata": {
        "id": "qpTIpGuDeTe-"
      }
    },
    {
      "cell_type": "markdown",
      "source": [
        "- Python Data Analysis Library\n",
        "- originally written by Wes McKinney\n",
        "- creates a Python object with rows and columns called data frame\n",
        "\n",
        "Pandas 'From' Methods,Pandas 'To' Methods\n",
        "- pd.read_csv(),df.to_csv()\n",
        "- pd.read_excel(),df.to_excel()\n",
        "- pd.read_json(),df.to_json()\n",
        "- pd.read_sql(),df.to_sql()\n",
        "- pd.read_html(),df.to_html()\n",
        "- pd.read_parquet(),df.to_parquet()\n",
        "- pd.read_orc(),df.to_orc()\n",
        "- pd.read_feather(),df.to_feather()\n",
        "- pd.read_pickle(),df.to_pickle()\n",
        "- pd.read_clipboard(),df.to_clipboard()"
      ],
      "metadata": {
        "id": "M8PhvE-4eVFZ"
      }
    },
    {
      "cell_type": "code",
      "source": [
        "import pandas as pd"
      ],
      "metadata": {
        "id": "zNGUJIO1fPe2"
      },
      "execution_count": null,
      "outputs": []
    },
    {
      "cell_type": "code",
      "source": [
        "# Creating DataFrames and Series\n",
        "data = {\n",
        "    'Name': ['Alice', 'Bob', 'Charlie'],\n",
        "    'Age': [25, 30, 35],\n",
        "    'Score': [85.5, 90.0, 95.0]\n",
        "}\n",
        "df = pd.DataFrame(data)\n",
        "print(df)"
      ],
      "metadata": {
        "id": "-Ny_tTP3fBm4"
      },
      "execution_count": null,
      "outputs": []
    },
    {
      "cell_type": "markdown",
      "source": [
        "**dataframe vs. series**\n",
        "\n",
        "A Pandas DataFrame is a two-dimensional, size-mutable, potentially heterogeneous tabular data structure with labeled axes (rows and columns). It's like a spreadsheet or SQL table. Structure: It consists of:\n",
        "Rows: Represent individual observations or records.\n",
        "Columns: Represent different variables or features.\n",
        "Index: Labels for the rows.\n",
        "Columns: Labels for the columns.\n",
        "\n",
        "A Pandas Series is a one-dimensional labeled array capable of holding data of any type (integer, string, float, Python objects, etc.). It's essentially a single column of data. Structure: It has two main components:\n",
        "Data: The actual values stored in the Series.\n",
        "Index: Labels for each data point, similar to row labels in a spreadsheet."
      ],
      "metadata": {
        "id": "gE1i3i-Ofj0N"
      }
    },
    {
      "cell_type": "code",
      "source": [
        "series = pd.Series([1, 2, 3, 4], name=\"Numbers\")\n",
        "print(series)"
      ],
      "metadata": {
        "id": "09jybxq2fwEU"
      },
      "execution_count": null,
      "outputs": []
    },
    {
      "cell_type": "markdown",
      "source": [
        "### Importing data and simple checks"
      ],
      "metadata": {
        "id": "HoQO-HPphKAx"
      }
    },
    {
      "cell_type": "code",
      "source": [
        "cars = pd.read_excel(\"https://github.com/urosgodnov/datasets/raw/master/norway_new_car_sales_by_model.xlsx\", engine=\"openpyxl\")\n",
        "cars.head()"
      ],
      "metadata": {
        "id": "zQwBCDz8gK4e"
      },
      "execution_count": null,
      "outputs": []
    },
    {
      "cell_type": "code",
      "source": [
        "diabetes=pd.read_csv(\"https://raw.githubusercontent.com/urosgodnov/datasets/refs/heads/master/diabetes.csv\")\n",
        "diabetes.head()"
      ],
      "metadata": {
        "id": "45sZjuMYhrzm"
      },
      "execution_count": null,
      "outputs": []
    },
    {
      "cell_type": "code",
      "source": [
        "# last 5 rows\n",
        "diabetes.tail()"
      ],
      "metadata": {
        "id": "5E4aZnkXh9iD"
      },
      "execution_count": null,
      "outputs": []
    },
    {
      "cell_type": "code",
      "source": [
        "# column types and memory\n",
        "diabetes.info()"
      ],
      "metadata": {
        "id": "CWB2YVRBiAZ7"
      },
      "execution_count": null,
      "outputs": []
    },
    {
      "cell_type": "code",
      "source": [
        "# number of rows and columns\n",
        "diabetes.shape"
      ],
      "metadata": {
        "id": "7UtgeUK9iDOt"
      },
      "execution_count": null,
      "outputs": []
    },
    {
      "cell_type": "code",
      "source": [
        "# simple statistics\n",
        "diabetes.describe()"
      ],
      "metadata": {
        "id": "ddAWpfaiiGq9"
      },
      "execution_count": null,
      "outputs": []
    },
    {
      "cell_type": "code",
      "source": [
        "# correlations\n",
        "diabetes.corr()"
      ],
      "metadata": {
        "id": "LghjldAai4bV"
      },
      "execution_count": null,
      "outputs": []
    },
    {
      "cell_type": "code",
      "source": [
        "# histograms\n",
        "diabetes.hist(figsize=(10,10))"
      ],
      "metadata": {
        "id": "DWMCQGeFjHAn"
      },
      "execution_count": null,
      "outputs": []
    },
    {
      "cell_type": "code",
      "source": [
        "# skewness\n",
        "diabetes.skew()"
      ],
      "metadata": {
        "id": "S4mBtirpjNwx"
      },
      "execution_count": null,
      "outputs": []
    },
    {
      "cell_type": "code",
      "source": [
        "# list of columns\n",
        "diabetes.columns"
      ],
      "metadata": {
        "id": "G8Z7AjS1ja8S"
      },
      "execution_count": null,
      "outputs": []
    },
    {
      "cell_type": "code",
      "source": [
        "# frequrncy distribution\n",
        "diabetes[\"Number_of_times_pregnant\"].value_counts()"
      ],
      "metadata": {
        "id": "QZgSagKvjm4W"
      },
      "execution_count": null,
      "outputs": []
    },
    {
      "cell_type": "code",
      "source": [
        "# cleaning column names\n",
        "# tip: try to always clean columns name after you import dataset\n",
        "from janitor import clean_names\n",
        "\n",
        "diabetes = clean_names(diabetes)\n",
        "diabetes.columns\n"
      ],
      "metadata": {
        "id": "Y0Yrd9jdlGPA"
      },
      "execution_count": null,
      "outputs": []
    },
    {
      "cell_type": "markdown",
      "source": [
        "### Exporting data"
      ],
      "metadata": {
        "id": "AfhCoSxkic_N"
      }
    },
    {
      "cell_type": "code",
      "source": [
        "diabetes.to_excel(\"diabetes.xlsx\", index=False)"
      ],
      "metadata": {
        "id": "SdD2zWUzifWg"
      },
      "execution_count": null,
      "outputs": []
    },
    {
      "cell_type": "markdown",
      "source": [
        "### Task"
      ],
      "metadata": {
        "id": "nwy2CcspkVGu"
      }
    },
    {
      "cell_type": "code",
      "source": [
        "# How many unique weight values are present in dataframe?\n",
        "# How many rows and columns does the dataframe have?\n",
        "# How much memory does dataframe use?\n",
        "# Perform summary statistics for numerical columns. What is the mean and std of the height column?\n",
        "# What is the correlation between height and weight?\n",
        "\n",
        "master=pd.read_csv(\"https://github.com/urosgodnov/datasets/blob/master/Master.csv\")"
      ],
      "metadata": {
        "id": "uW3VCCyJkYJK"
      },
      "execution_count": null,
      "outputs": []
    },
    {
      "cell_type": "markdown",
      "source": [
        "### Advanced topics"
      ],
      "metadata": {
        "id": "WHHfCeDgk6Xy"
      }
    },
    {
      "cell_type": "markdown",
      "source": [
        "**Pandas profiling**"
      ],
      "metadata": {
        "id": "-1FIX8Abk_sE"
      }
    },
    {
      "cell_type": "code",
      "source": [],
      "metadata": {
        "id": "CVNvcgWMk-yC"
      },
      "execution_count": null,
      "outputs": []
    },
    {
      "cell_type": "markdown",
      "source": [
        "### Subsetting"
      ],
      "metadata": {
        "id": "We16HFBTj2kJ"
      }
    }
  ]
}