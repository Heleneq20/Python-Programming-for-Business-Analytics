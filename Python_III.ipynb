{
  "nbformat": 4,
  "nbformat_minor": 0,
  "metadata": {
    "colab": {
      "provenance": [],
      "authorship_tag": "ABX9TyPF0qfHp/omf84sZjKwVeMP",
      "include_colab_link": true
    },
    "kernelspec": {
      "name": "python3",
      "display_name": "Python 3"
    },
    "language_info": {
      "name": "python"
    }
  },
  "cells": [
    {
      "cell_type": "markdown",
      "metadata": {
        "id": "view-in-github",
        "colab_type": "text"
      },
      "source": [
        "<a href=\"https://colab.research.google.com/github/urosgodnov/Python-Programming-for-Business-Analytics/blob/main/Python_III.ipynb\" target=\"_parent\"><img src=\"https://colab.research.google.com/assets/colab-badge.svg\" alt=\"Open In Colab\"/></a>"
      ]
    },
    {
      "cell_type": "markdown",
      "source": [
        "# Python Programming for Business Analytics - Basics of Python - III"
      ],
      "metadata": {
        "id": "UKy1AKf4XVQR"
      }
    },
    {
      "cell_type": "markdown",
      "source": [
        "## Modules"
      ],
      "metadata": {
        "id": "kbM_qoqBXYae"
      }
    },
    {
      "cell_type": "markdown",
      "source": [
        "Python has a rich standard library.\n",
        "\n",
        "Most common modules are numpy, pandas, scikit-learn, matplotlib,..."
      ],
      "metadata": {
        "id": "DEOJihSjXfvM"
      }
    },
    {
      "cell_type": "code",
      "execution_count": null,
      "metadata": {
        "id": "iMGWNdeBXOxN"
      },
      "outputs": [],
      "source": [
        "# importing a whole module\n",
        "import math\n",
        "\n",
        "# Calculating the square root\n",
        "print(\"Square root of 16:\", math.sqrt(16))\n",
        "\n",
        "# Calculating sine of 90 degrees (convert degrees to radians first)\n",
        "print(\"Sine of 90 degrees:\", math.sin(math.radians(90)))"
      ]
    },
    {
      "cell_type": "code",
      "source": [
        "# Use aliases to shorten module names or improve readability.\n",
        "\n",
        "import math as m\n",
        "\n",
        "# Using the alias\n",
        "print(\"Cosine of 45 degrees:\", m.cos(m.radians(45)))"
      ],
      "metadata": {
        "id": "3wVzzpbtXunN"
      },
      "execution_count": null,
      "outputs": []
    },
    {
      "cell_type": "code",
      "source": [
        "# You can import specific functions from a module to avoid importing everything.\n",
        "\n",
        "from math import sqrt, pi\n",
        "\n",
        "print(\"Value of pi:\", pi)\n",
        "print(\"Square root of 25:\", sqrt(25))"
      ],
      "metadata": {
        "id": "yupvcI6SXyIR"
      },
      "execution_count": null,
      "outputs": []
    },
    {
      "cell_type": "code",
      "source": [
        "from random import randint\n",
        "\n",
        "randint(0,100)"
      ],
      "metadata": {
        "id": "0vkD26uKX6PY"
      },
      "execution_count": null,
      "outputs": []
    },
    {
      "cell_type": "markdown",
      "source": [
        "**list of preinstalled modules**"
      ],
      "metadata": {
        "id": "rebl01AbYvnZ"
      }
    },
    {
      "cell_type": "code",
      "source": [
        "!pip list"
      ],
      "metadata": {
        "id": "Q2uthav_Y03g"
      },
      "execution_count": null,
      "outputs": []
    },
    {
      "cell_type": "markdown",
      "source": [
        "**what if module is not preinstalled on google colab**"
      ],
      "metadata": {
        "id": "AT_by-dJYHC4"
      }
    },
    {
      "cell_type": "code",
      "source": [
        "try:\n",
        "  import janitor\n",
        "except:\n",
        "  print(\"Module is not preeinstalled!Installing now...\")\n",
        "  !pip install pyjanitor --quiet"
      ],
      "metadata": {
        "id": "XJt8WJ95YOEA"
      },
      "execution_count": null,
      "outputs": []
    },
    {
      "cell_type": "code",
      "source": [
        "import janitor"
      ],
      "metadata": {
        "id": "5pg_nNKmYi9a"
      },
      "execution_count": 5,
      "outputs": []
    },
    {
      "cell_type": "markdown",
      "source": [
        "### Tasks"
      ],
      "metadata": {
        "id": "I6YKpQZNZCHk"
      }
    },
    {
      "cell_type": "code",
      "source": [
        "# test if randint is a random function regarding the distribution of even and odd numbers\n",
        "# in a large list there should be 50/50 even/odd numbers\n",
        "# create 1000 random numbers betweeb 1 and 10 000\n",
        "# count list and odd numbers"
      ],
      "metadata": {
        "id": "1NNR-TmpZEi9"
      },
      "execution_count": null,
      "outputs": []
    }
  ]
}