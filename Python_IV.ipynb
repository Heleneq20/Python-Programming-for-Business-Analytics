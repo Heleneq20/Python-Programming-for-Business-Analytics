{
  "nbformat": 4,
  "nbformat_minor": 0,
  "metadata": {
    "colab": {
      "provenance": [],
      "authorship_tag": "ABX9TyNW7++AE7kyzzYwY+EpUb3j",
      "include_colab_link": true
    },
    "kernelspec": {
      "name": "python3",
      "display_name": "Python 3"
    },
    "language_info": {
      "name": "python"
    }
  },
  "cells": [
    {
      "cell_type": "markdown",
      "metadata": {
        "id": "view-in-github",
        "colab_type": "text"
      },
      "source": [
        "<a href=\"https://colab.research.google.com/github/urosgodnov/Python-Programming-for-Business-Analytics/blob/main/Python_IV.ipynb\" target=\"_parent\"><img src=\"https://colab.research.google.com/assets/colab-badge.svg\" alt=\"Open In Colab\"/></a>"
      ]
    },
    {
      "cell_type": "markdown",
      "source": [
        "# Python Programming for Business Analytics - Basics of Python - IV"
      ],
      "metadata": {
        "id": "mNYdIeJZLXcx"
      }
    },
    {
      "cell_type": "markdown",
      "source": [
        "## Pandas"
      ],
      "metadata": {
        "id": "0g3DBL2ULodi"
      }
    },
    {
      "cell_type": "code",
      "source": [
        "import pandas as pd\n",
        "import numpy as np"
      ],
      "metadata": {
        "id": "sCHkiVZwLiBM"
      },
      "execution_count": 2,
      "outputs": []
    },
    {
      "cell_type": "markdown",
      "source": [
        "### Renaming, grouping and sorting"
      ],
      "metadata": {
        "id": "m2xUc55mMXyr"
      }
    },
    {
      "cell_type": "code",
      "execution_count": 5,
      "metadata": {
        "id": "nOCt19joLW0r"
      },
      "outputs": [],
      "source": [
        "data = {\n",
        "    'Name': ['Alice', 'Bob', 'Charlie', 'David'],\n",
        "    'Age': [24, 27, 22, 32],\n",
        "    'Salary': [50000, 60000, 55000, 70000],\n",
        "    'Department': ['HR', 'IT', 'Finance', 'IT']\n",
        "}\n",
        "\n",
        "df = pd.DataFrame(data)\n",
        "\n",
        "def case_statement(row):\n",
        "    if row['Age'] < 25:\n",
        "        return 'Young'\n",
        "    elif 25 <= row['Age'] < 30:\n",
        "        return 'Mid-age'\n",
        "    else:\n",
        "        return 'Experienced'\n",
        "\n",
        "df['Experience Level'] = df.apply(case_statement, axis=1)\n",
        "df['Annual Bonus'] = df['Salary'] * 0.1"
      ]
    },
    {
      "cell_type": "code",
      "source": [
        "# renaming\n",
        "renamed_df = df.rename(columns={'Name': 'Employee Name', 'Salary': 'Monthly Salary'})\n",
        "renamed_df"
      ],
      "metadata": {
        "id": "xphW87iBNBqo"
      },
      "execution_count": null,
      "outputs": []
    },
    {
      "cell_type": "code",
      "source": [
        "# Grouping by Department and Calculating Mean Salary\n",
        "grouped_df = df.groupby('Department')['Salary'].mean().reset_index()\n",
        "grouped_df"
      ],
      "metadata": {
        "id": "tXhnedevNMp_"
      },
      "execution_count": null,
      "outputs": []
    },
    {
      "cell_type": "code",
      "source": [
        "# Sorting by Salary in Descending Order\n",
        "sorted_df = df.sort_values(by='Salary', ascending=False)\n",
        "sorted_df"
      ],
      "metadata": {
        "id": "DQ2l4Xx3NUpO"
      },
      "execution_count": null,
      "outputs": []
    },
    {
      "cell_type": "code",
      "source": [
        "# Grouping by Multiple Columns and Calculating Multiple Aggregations\n",
        "grouped_agg_df = df.groupby(['Department', 'Experience Level']).agg(\n",
        "    Mean_Salary=('Salary', 'mean'),\n",
        "    Total_Bonus=('Annual Bonus', 'sum'),\n",
        "    Employee_Count=('Name', 'count')\n",
        ").reset_index()\n",
        "grouped_agg_df"
      ],
      "metadata": {
        "id": "mbp79ZfaNp_y"
      },
      "execution_count": null,
      "outputs": []
    },
    {
      "cell_type": "code",
      "source": [
        "# Calculate Percentage Contribution of Each Employee's Salary to Their Department's Total Salary\n",
        "# it broadcasts the sum of salaries for each department to all the employees belonging to that department\n",
        "df['Department Total Salary'] = df.groupby('Department')['Salary'].transform('sum')\n",
        "df['Salary Contribution %'] = (df['Salary'] / df['Department Total Salary']) * 100\n",
        "\n",
        "df"
      ],
      "metadata": {
        "id": "eoLBLWlsSIt7"
      },
      "execution_count": null,
      "outputs": []
    },
    {
      "cell_type": "markdown",
      "source": [
        "### Tasks"
      ],
      "metadata": {
        "id": "HtOQOpuOVP04"
      }
    },
    {
      "cell_type": "code",
      "source": [
        "# New Sample DataFrame for demonstration\n",
        "new_data = {\n",
        "    'Product': ['Laptop', 'Tablet', 'Smartphone', 'Desktop', 'Smartwatch'],\n",
        "    'Category': ['Electronics', 'Electronics', 'Electronics', 'Electronics', 'Wearables'],\n",
        "    'Price': [1200, 300, 800, 1500, 200],\n",
        "    'Units Sold': [100, 200, 150, 50, 300],\n",
        "    'Rating': [4.5, 4.2, 4.7, 4.3, 4.8]\n",
        "}\n",
        "\n",
        "new_df = pd.DataFrame(new_data)"
      ],
      "metadata": {
        "id": "8khDbyMSVSuX"
      },
      "execution_count": null,
      "outputs": []
    },
    {
      "cell_type": "code",
      "source": [
        "# Grouping by Category and Calculating Total Revenue\n",
        "# revenue should be calculated with units*price"
      ],
      "metadata": {
        "id": "1LzaEOUkVT__"
      },
      "execution_count": null,
      "outputs": []
    },
    {
      "cell_type": "code",
      "source": [
        "# Sorting by Revenue in Descending Order"
      ],
      "metadata": {
        "id": "wTJ5-IhwWbOX"
      },
      "execution_count": null,
      "outputs": []
    },
    {
      "cell_type": "code",
      "source": [
        "# Grouping by Rating Category and Calculating Multiple Aggregations\n",
        "# Avg_Price, Total_Units_Sold, Product_Count\n",
        "new_df['Rating Category'] = np.select(\n",
        "    condlist=[\n",
        "        new_df['Rating'] >= 4.5,\n",
        "        (new_df['Rating'] >= 4.0) & (new_df['Rating'] < 4.5),\n",
        "        new_df['Rating'] < 4.0\n",
        "    ],\n",
        "    choicelist=['Excellent', 'Good', 'Average'],\n",
        "    default='Unknown'\n",
        ")"
      ],
      "metadata": {
        "id": "yD918n5iWgqQ"
      },
      "execution_count": null,
      "outputs": []
    },
    {
      "cell_type": "code",
      "source": [
        "# Calculate Each Product's Contribution to Total Revenue"
      ],
      "metadata": {
        "id": "alTQCuOlW6OF"
      },
      "execution_count": null,
      "outputs": []
    },
    {
      "cell_type": "markdown",
      "source": [
        "### Solutions"
      ],
      "metadata": {
        "id": "vn3fwu_7XCwH"
      }
    },
    {
      "cell_type": "code",
      "source": [
        "new_df['Revenue'] = new_df['Price'] * new_df['Units Sold']  # Ensure 'Revenue' exists for this task\n",
        "grouped_revenue_df = new_df.groupby('Category')['Revenue'].sum().reset_index()\n",
        "\n",
        "grouped_revenue_df"
      ],
      "metadata": {
        "id": "b1kzp-SoXFS3"
      },
      "execution_count": null,
      "outputs": []
    },
    {
      "cell_type": "code",
      "source": [
        "sorted_revenue_df = new_df.sort_values(by='Revenue', ascending=False)\n",
        "\n",
        "sorted_revenue_df"
      ],
      "metadata": {
        "id": "GgA5lODhXKbI"
      },
      "execution_count": null,
      "outputs": []
    },
    {
      "cell_type": "code",
      "source": [
        "grouped_rating_df = new_df.groupby('Rating Category').agg(\n",
        "    Avg_Price=('Price', 'mean'),\n",
        "    Total_Units_Sold=('Units Sold', 'sum'),\n",
        "    Product_Count=('Product', 'count')\n",
        ").reset_index()\n",
        "\n",
        "grouped_rating_df"
      ],
      "metadata": {
        "id": "28OVxvsaXO1L"
      },
      "execution_count": null,
      "outputs": []
    },
    {
      "cell_type": "code",
      "source": [
        "new_df['Total Revenue'] = new_df['Revenue'].sum()\n",
        "new_df['Revenue Contribution %'] = (new_df['Revenue'] / new_df['Total Revenue']) * 100\n",
        "\n",
        "new_df"
      ],
      "metadata": {
        "id": "2MIIep78XXSg"
      },
      "execution_count": null,
      "outputs": []
    },
    {
      "cell_type": "markdown",
      "source": [
        "### Handling missing data"
      ],
      "metadata": {
        "id": "y048dPYMZjUI"
      }
    },
    {
      "cell_type": "code",
      "source": [
        "missing_data = {\n",
        "    'Employee': ['Alice', 'Bob', 'Charlie', 'David', 'Eve', 'Frank', 'Grace', 'Hannah', 'Ian', 'Jack'],\n",
        "    'Department': ['HR', 'IT', 'Finance', np.nan, 'IT', 'HR', np.nan, 'Finance', 'IT', 'HR'],\n",
        "    'Salary': [50000, 60000, None, 55000, 70000, 48000, None, None, 62000, 52000],\n",
        "    'Join Date': ['2020-01-15', '2019-06-01', '2021-03-20', None, '2018-12-11', '2015-07-10', None, '2017-09-23', '2016-03-30', '2019-11-12'],\n",
        "    'Performance Rating': [4.5, np.nan, 4.7, 4.3, None, 4.2, 4.6, np.nan, 4.1, None]\n",
        "}\n",
        "\n",
        "missing_df = pd.DataFrame(missing_data)\n",
        "missing_df.head()"
      ],
      "metadata": {
        "id": "WoJfCafyZnyc"
      },
      "execution_count": null,
      "outputs": []
    },
    {
      "cell_type": "code",
      "source": [
        "# Checking for null values in the DataFrame\n",
        "null_values_check = pd.isnull(missing_df)\n",
        "\n",
        "null_values_check"
      ],
      "metadata": {
        "id": "mWtG9Cs4ZtvN"
      },
      "execution_count": null,
      "outputs": []
    },
    {
      "cell_type": "code",
      "source": [
        "# Selecting rows where a specific column has null values\n",
        "null_rows_salary = missing_df[missing_df['Salary'].isnull()]\n",
        "\n",
        "null_rows_salary"
      ],
      "metadata": {
        "id": "wyGs0p3UaDr8"
      },
      "execution_count": null,
      "outputs": []
    },
    {
      "cell_type": "code",
      "source": [
        "# Counting total null values per column\n",
        "null_count = pd.isnull(missing_df).sum()\n",
        "\n",
        "null_count"
      ],
      "metadata": {
        "id": "7H2TOCAjaJCW"
      },
      "execution_count": null,
      "outputs": []
    },
    {
      "cell_type": "code",
      "source": [
        "# Dropping rows with any null values\n",
        "dropped_na_rows = missing_df.dropna()\n",
        "\n",
        "dropped_na_rows"
      ],
      "metadata": {
        "id": "8ayTxYWZaRvI"
      },
      "execution_count": null,
      "outputs": []
    },
    {
      "cell_type": "code",
      "source": [
        "# Dropping columns with any null values\n",
        "dropped_na_columns = missing_df.dropna(axis=1)\n",
        "\n",
        "dropped_na_columns"
      ],
      "metadata": {
        "id": "EjbBiI3haZVI"
      },
      "execution_count": null,
      "outputs": []
    },
    {
      "cell_type": "code",
      "source": [
        "# Replacing missing values with a specified value (e.g., 0 for 'Salary')\n",
        "filled_na_with_zero = missing_df.fillna({'Salary': 0})\n",
        "\n",
        "filled_na_with_zero"
      ],
      "metadata": {
        "id": "6fvLJVcpaiYc"
      },
      "execution_count": null,
      "outputs": []
    },
    {
      "cell_type": "code",
      "source": [
        "# Replacing missing values in a Series with its mean (example: 'Performance Rating')\n",
        "missing_df['Performance Rating'] = missing_df['Performance Rating'].fillna(missing_df['Performance Rating'].mean())\n",
        "\n",
        "missing_df"
      ],
      "metadata": {
        "id": "QPxNVpfcaxOI"
      },
      "execution_count": null,
      "outputs": []
    },
    {
      "cell_type": "code",
      "source": [
        "# Advanced: Forward Fill Missing Values in Join Date\n",
        "missing_df['Join Date'] = missing_df['Join Date'].fillna(method='ffill')\n",
        "\n",
        "missing_df"
      ],
      "metadata": {
        "id": "nL8yJHB-bimB"
      },
      "execution_count": null,
      "outputs": []
    },
    {
      "cell_type": "code",
      "source": [
        "# Advanced: Backward Fill Missing Values in Department\n",
        "missing_df['Department'] = missing_df['Department'].fillna(method='bfill')\n",
        "\n",
        "missing_df"
      ],
      "metadata": {
        "id": "j3vJdMcKbpVM"
      },
      "execution_count": null,
      "outputs": []
    },
    {
      "cell_type": "code",
      "source": [
        "# interpolate() function in pandas fills missing values in a column by estimating their values using a defined interpolation method.\n",
        "# By default, it uses linear interpolation, which assumes a straight line between known data points to estimate the missing values.\n",
        "\n",
        "missing_df['Salary'] = missing_df['Salary'].interpolate()\n",
        "missing_df['Performance Rating'] = missing_df['Performance Rating'].interpolate()\n",
        "\n",
        "missing_df"
      ],
      "metadata": {
        "id": "XxIOEoiZcPVd"
      },
      "execution_count": null,
      "outputs": []
    },
    {
      "cell_type": "markdown",
      "source": [
        "### Task"
      ],
      "metadata": {
        "id": "p8h56xq7fh4J"
      }
    },
    {
      "cell_type": "code",
      "source": [
        "# Task Instructions:\n",
        "# 1. Replace missing values in the 'Department' column with \"Unknown\".\n",
        "# 2. Replace missing values in the 'Salary' column with the average salary.\n",
        "# 3. Replace missing values in the 'Join Date' column with \"2020-01-01\".\n",
        "# 4. Replace missing values in the 'Performance Rating' column with the column's mean.\n",
        "# 5. Rename the 'Performance Rating' column to 'Rating'.\n",
        "# 6. Create a subset of rows where 'Salary' is greater than 55000 and only include 'Employee' and 'Salary'.\n",
        "# 7. Group the data by 'Department' and calculate the average salary and count of employees.\n",
        "\n",
        "data = {\n",
        "    'Employee': ['Alice', 'Bob', 'Charlie', 'David', 'Eve'],\n",
        "    'Department': ['HR', 'IT', 'Finance', 'IT', None],\n",
        "    'Salary': [50000, 60000, 55000, None, 70000],\n",
        "    'Join Date': ['2020-01-15', '2019-06-01', '2021-03-20', None, '2018-12-11'],\n",
        "    'Performance Rating': [4.5, 4.2, 4.7, 4.3, None]\n",
        "}\n",
        "\n",
        "# Create the DataFrame\n",
        "missing_df = pd.DataFrame(data)\n",
        "\n",
        "missing_df"
      ],
      "metadata": {
        "id": "6rhRnUqRfla9"
      },
      "execution_count": null,
      "outputs": []
    },
    {
      "cell_type": "markdown",
      "source": [
        "### Solution"
      ],
      "metadata": {
        "id": "FrOcx48ufyPJ"
      }
    },
    {
      "cell_type": "code",
      "source": [
        "# 1. Replace missing values in the 'Department' column\n",
        "missing_df['Department'] = missing_df['Department'].fillna('Unknown')\n",
        "\n",
        "# 2. Replace missing values in the 'Salary' column\n",
        "missing_df['Salary'] = missing_df['Salary'].fillna(missing_df['Salary'].mean())\n",
        "\n",
        "# 3. Replace missing values in the 'Join Date' column\n",
        "missing_df['Join Date'] = missing_df['Join Date'].fillna('2020-01-01')\n",
        "\n",
        "# 4. Replace missing values in the 'Performance Rating' column\n",
        "missing_df['Performance Rating'] = missing_df['Performance Rating'].fillna(missing_df['Performance Rating'].mean())\n",
        "\n",
        "# 5. Rename the 'Performance Rating' column to 'Rating'\n",
        "missing_df.rename(columns={'Performance Rating': 'Rating'}, inplace=True)\n",
        "\n",
        "# 6. Create a subset of rows where 'Salary' is greater than 55000\n",
        "salary_subset = missing_df.loc[missing_df['Salary'] > 55000, ['Employee', 'Salary']]\n",
        "\n",
        "# 7. Group the data by 'Department'\n",
        "grouped_data = missing_df.groupby('Department').agg(\n",
        "    Avg_Salary=('Salary', 'mean'),\n",
        "    Employee_Count=('Employee', 'count')\n",
        ").reset_index()"
      ],
      "metadata": {
        "id": "4Me4_W3of0UM"
      },
      "execution_count": null,
      "outputs": []
    }
  ]
}